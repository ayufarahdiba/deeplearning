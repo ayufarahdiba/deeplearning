{
  "nbformat": 4,
  "nbformat_minor": 0,
  "metadata": {
    "colab": {
      "name": "Resnet50.ipynb",
      "provenance": [],
      "collapsed_sections": [],
      "machine_shape": "hm",
      "include_colab_link": true
    },
    "kernelspec": {
      "name": "python3",
      "display_name": "Python 3"
    }
  },
  "cells": [
    {
      "cell_type": "markdown",
      "metadata": {
        "id": "view-in-github",
        "colab_type": "text"
      },
      "source": [
        "<a href=\"https://colab.research.google.com/github/Iksora03/Deep-Learning/blob/master/Resnet50.ipynb\" target=\"_parent\"><img src=\"https://colab.research.google.com/assets/colab-badge.svg\" alt=\"Open In Colab\"/></a>"
      ]
    },
    {
      "cell_type": "code",
      "metadata": {
        "id": "0jrH_OI7IJQh",
        "colab_type": "code",
        "outputId": "c7d2b2f6-9057-405e-e3a6-112e394cb820",
        "colab": {
          "base_uri": "https://localhost:8080/",
          "height": 129
        }
      },
      "source": [
        "from google.colab import drive\n",
        "drive.mount('/content/drive')"
      ],
      "execution_count": 1,
      "outputs": [
        {
          "output_type": "stream",
          "text": [
            "Go to this URL in a browser: https://accounts.google.com/o/oauth2/auth?client_id=947318989803-6bn6qk8qdgf4n4g3pfee6491hc0brc4i.apps.googleusercontent.com&redirect_uri=urn%3aietf%3awg%3aoauth%3a2.0%3aoob&response_type=code&scope=email%20https%3a%2f%2fwww.googleapis.com%2fauth%2fdocs.test%20https%3a%2f%2fwww.googleapis.com%2fauth%2fdrive%20https%3a%2f%2fwww.googleapis.com%2fauth%2fdrive.photos.readonly%20https%3a%2f%2fwww.googleapis.com%2fauth%2fpeopleapi.readonly\n",
            "\n",
            "Enter your authorization code:\n",
            "··········\n",
            "Mounted at /content/drive\n"
          ],
          "name": "stdout"
        }
      ]
    },
    {
      "cell_type": "code",
      "metadata": {
        "id": "dYw9x3JPf8-M",
        "colab_type": "code",
        "outputId": "0e565df2-7c36-4293-dfca-5aa41821eec0",
        "colab": {
          "base_uri": "https://localhost:8080/",
          "height": 54
        }
      },
      "source": [
        "import os \n",
        "sets = ['train', 'test', 'validation']\n",
        "counts = dict()\n",
        "\n",
        "for s in sets:\n",
        "  root = '/content/drive/My Drive/tomato'.format(s)\n",
        "  for d in os.listdir(root):\n",
        "    directory = '{}/{}'.format(root, d)\n",
        "    number_of_files = len(os.listdir(directory))\n",
        "    counts.setdefault(d, 0)\n",
        "    counts[d] += number_of_files\n",
        "\n",
        "for f, c in counts.items():\n",
        "  print(f, '->' ,c)"
      ],
      "execution_count": 2,
      "outputs": [
        {
          "output_type": "stream",
          "text": [
            "valid -> 30\n",
            "train -> 30\n"
          ],
          "name": "stdout"
        }
      ]
    },
    {
      "cell_type": "code",
      "metadata": {
        "id": "ikqOj24ygcbe",
        "colab_type": "code",
        "colab": {}
      },
      "source": [
        "get_ipython().system_raw(\"unrar x datasets.rar\")"
      ],
      "execution_count": 0,
      "outputs": []
    },
    {
      "cell_type": "code",
      "metadata": {
        "id": "edYZl5Y4go68",
        "colab_type": "code",
        "colab": {}
      },
      "source": [
        "import os\n",
        "import numpy as np\n",
        "import cv2\n",
        "import random"
      ],
      "execution_count": 0,
      "outputs": []
    },
    {
      "cell_type": "code",
      "metadata": {
        "id": "JROO95orgsD4",
        "colab_type": "code",
        "outputId": "81b4d430-fbbb-49e1-8d31-9375bf020829",
        "colab": {
          "base_uri": "https://localhost:8080/",
          "height": 35
        }
      },
      "source": [
        "from keras import Sequential\n",
        "from keras.layers import Dense, Flatten, GlobalAveragePooling2D, Dropout\n",
        "from keras.applications import vgg16\n",
        "from keras.applications.resnet50 import ResNet50\n",
        "from keras.applications.resnet50 import preprocess_input as resnet_pi\n",
        "from keras.preprocessing.image import ImageDataGenerator\n",
        "from keras.models import Model\n",
        "import keras"
      ],
      "execution_count": 5,
      "outputs": [
        {
          "output_type": "stream",
          "text": [
            "Using TensorFlow backend.\n"
          ],
          "name": "stderr"
        }
      ]
    },
    {
      "cell_type": "code",
      "metadata": {
        "id": "HjPOsi-jg10s",
        "colab_type": "code",
        "outputId": "a0883c03-0828-47c6-dbac-dc35d4cea89b",
        "colab": {
          "base_uri": "https://localhost:8080/",
          "height": 111
        }
      },
      "source": [
        "base_model = ResNet50(include_top=False, input_shape=(224, 224, 3))\n",
        "for layer in base_model.layers:\n",
        "    layer.trainable = True"
      ],
      "execution_count": 6,
      "outputs": [
        {
          "output_type": "stream",
          "text": [
            "/usr/local/lib/python3.6/dist-packages/keras_applications/resnet50.py:265: UserWarning: The output shape of `ResNet50(include_top=False)` has been changed since Keras 2.2.0.\n",
            "  warnings.warn('The output shape of `ResNet50(include_top=False)` '\n"
          ],
          "name": "stderr"
        },
        {
          "output_type": "stream",
          "text": [
            "Downloading data from https://github.com/fchollet/deep-learning-models/releases/download/v0.2/resnet50_weights_tf_dim_ordering_tf_kernels_notop.h5\n",
            "94658560/94653016 [==============================] - 13s 0us/step\n"
          ],
          "name": "stdout"
        }
      ]
    },
    {
      "cell_type": "code",
      "metadata": {
        "id": "wBFzrM66hIhH",
        "colab_type": "code",
        "colab": {}
      },
      "source": [
        "x = base_model.output\n",
        "x = Flatten(name='flatten', input_shape=base_model.output_shape)(x) \n",
        "x = Dense(10, activation='softmax', name='predictions')(x)\n",
        "model = Model(inputs=base_model.input, outputs=x)\n",
        "# model.summary()"
      ],
      "execution_count": 0,
      "outputs": []
    },
    {
      "cell_type": "code",
      "metadata": {
        "id": "oXsmf2wrhLAb",
        "colab_type": "code",
        "colab": {}
      },
      "source": [
        "model.compile(optimizer='adam', \n",
        "              loss='categorical_crossentropy',\n",
        "              metrics=['accuracy'])"
      ],
      "execution_count": 0,
      "outputs": []
    },
    {
      "cell_type": "code",
      "metadata": {
        "id": "l3kmXaC9iDnD",
        "colab_type": "code",
        "colab": {}
      },
      "source": [
        "train_datagen = ImageDataGenerator(\n",
        "    rescale=1./255,\n",
        "    rotation_range=40,\n",
        "    width_shift_range=0.2,\n",
        "    height_shift_range=0.2,\n",
        "    shear_range=0.2,\n",
        "    zoom_range=0.2,\n",
        "    fill_mode='nearest',\n",
        ")\n",
        "validation_datagen = ImageDataGenerator(\n",
        "    rescale=1./255,\n",
        ")"
      ],
      "execution_count": 0,
      "outputs": []
    },
    {
      "cell_type": "code",
      "metadata": {
        "id": "6ih55FcViPVL",
        "colab_type": "code",
        "outputId": "2c26c49d-1506-4ef0-d7f8-efa2dbfa7369",
        "colab": {
          "base_uri": "https://localhost:8080/",
          "height": 54
        }
      },
      "source": [
        "train_generator = train_datagen.flow_from_directory(\n",
        "        '/content/drive/My Drive/tomato/train', \n",
        "        target_size=(224, 224),\n",
        "        batch_size=32,\n",
        "        class_mode='categorical',\n",
        ")\n",
        "validation_generator = validation_datagen.flow_from_directory(\n",
        "        '/content/drive/My Drive/tomato/valid',\n",
        "        target_size=(224, 224),\n",
        "        batch_size=32,\n",
        "        class_mode='categorical',\n",
        ")"
      ],
      "execution_count": 10,
      "outputs": [
        {
          "output_type": "stream",
          "text": [
            "Found 18409 images belonging to 10 classes.\n",
            "Found 4602 images belonging to 10 classes.\n"
          ],
          "name": "stdout"
        }
      ]
    },
    {
      "cell_type": "code",
      "metadata": {
        "id": "uX4PcENLiZfv",
        "colab_type": "code",
        "colab": {}
      },
      "source": [
        "import tensorflow as tf"
      ],
      "execution_count": 0,
      "outputs": []
    },
    {
      "cell_type": "code",
      "metadata": {
        "id": "XK8MGqTOik6D",
        "colab_type": "code",
        "outputId": "183673ff-5a45-41ba-fc6b-2a552d4e8656",
        "colab": {
          "base_uri": "https://localhost:8080/",
          "height": 1000
        }
      },
      "source": [
        "# do not rerun\n",
        "from keras.models import Sequential\n",
        "t_steps = 500 // 32\n",
        "v_steps = 80 // 32\n",
        "history = model.fit_generator(train_generator, \n",
        "                              epochs=50, \n",
        "                              workers = 4,\n",
        "                              use_multiprocessing=True,\n",
        "                              steps_per_epoch=t_steps, \n",
        "                              validation_data=validation_generator,\n",
        "                              validation_steps=v_steps,\n",
        "                             )"
      ],
      "execution_count": 12,
      "outputs": [
        {
          "output_type": "stream",
          "text": [
            "Epoch 1/50\n",
            "15/15 [==============================] - 208s 14s/step - loss: 6.2348 - accuracy: 0.3271 - val_loss: 44648.6562 - val_accuracy: 0.1094\n",
            "Epoch 2/50\n",
            "15/15 [==============================] - 178s 12s/step - loss: 3.8186 - accuracy: 0.4958 - val_loss: 161.0034 - val_accuracy: 0.0625\n",
            "Epoch 3/50\n",
            "15/15 [==============================] - 178s 12s/step - loss: 2.3709 - accuracy: 0.5646 - val_loss: 1390.2087 - val_accuracy: 0.1406\n",
            "Epoch 4/50\n",
            "15/15 [==============================] - 180s 12s/step - loss: 1.9304 - accuracy: 0.6042 - val_loss: 2353.7939 - val_accuracy: 0.1250\n",
            "Epoch 5/50\n",
            "15/15 [==============================] - 177s 12s/step - loss: 1.6169 - accuracy: 0.6104 - val_loss: 224.4603 - val_accuracy: 0.1094\n",
            "Epoch 6/50\n",
            "15/15 [==============================] - 177s 12s/step - loss: 2.1873 - accuracy: 0.5875 - val_loss: 1431.0583 - val_accuracy: 0.1875\n",
            "Epoch 7/50\n",
            "15/15 [==============================] - 180s 12s/step - loss: 1.1434 - accuracy: 0.6792 - val_loss: 3.9867 - val_accuracy: 0.0469\n",
            "Epoch 8/50\n",
            "15/15 [==============================] - 177s 12s/step - loss: 1.2484 - accuracy: 0.7146 - val_loss: 10.8964 - val_accuracy: 0.0469\n",
            "Epoch 9/50\n",
            "15/15 [==============================] - 177s 12s/step - loss: 1.3200 - accuracy: 0.6875 - val_loss: 8.2963 - val_accuracy: 0.0781\n",
            "Epoch 10/50\n",
            "15/15 [==============================] - 176s 12s/step - loss: 1.7580 - accuracy: 0.7146 - val_loss: 11.1051 - val_accuracy: 0.1406\n",
            "Epoch 11/50\n",
            "15/15 [==============================] - 179s 12s/step - loss: 1.6225 - accuracy: 0.6625 - val_loss: 3.2667 - val_accuracy: 0.0938\n",
            "Epoch 12/50\n",
            "15/15 [==============================] - 176s 12s/step - loss: 1.2315 - accuracy: 0.6917 - val_loss: 13.7189 - val_accuracy: 0.1406\n",
            "Epoch 13/50\n",
            "15/15 [==============================] - 176s 12s/step - loss: 2.2214 - accuracy: 0.6917 - val_loss: 8.0008 - val_accuracy: 0.1094\n",
            "Epoch 14/50\n",
            "15/15 [==============================] - 179s 12s/step - loss: 1.9996 - accuracy: 0.5833 - val_loss: 4.3979 - val_accuracy: 0.1719\n",
            "Epoch 15/50\n",
            "15/15 [==============================] - 176s 12s/step - loss: 2.4535 - accuracy: 0.5833 - val_loss: 3.9882 - val_accuracy: 0.1719\n",
            "Epoch 16/50\n",
            "15/15 [==============================] - 176s 12s/step - loss: 2.8117 - accuracy: 0.5562 - val_loss: 10.7399 - val_accuracy: 0.0312\n",
            "Epoch 17/50\n",
            "15/15 [==============================] - 176s 12s/step - loss: 2.7802 - accuracy: 0.6021 - val_loss: 8.6930 - val_accuracy: 0.0938\n",
            "Epoch 18/50\n",
            "15/15 [==============================] - 179s 12s/step - loss: 2.2444 - accuracy: 0.6271 - val_loss: 7.3433 - val_accuracy: 0.1250\n",
            "Epoch 19/50\n",
            "15/15 [==============================] - 176s 12s/step - loss: 1.5953 - accuracy: 0.6854 - val_loss: 10.2005 - val_accuracy: 0.1562\n",
            "Epoch 20/50\n",
            "15/15 [==============================] - 177s 12s/step - loss: 1.5457 - accuracy: 0.6708 - val_loss: 6.8471 - val_accuracy: 0.2031\n",
            "Epoch 21/50\n",
            "15/15 [==============================] - 179s 12s/step - loss: 1.2124 - accuracy: 0.7208 - val_loss: 5.9032 - val_accuracy: 0.1406\n",
            "Epoch 22/50\n",
            "15/15 [==============================] - 177s 12s/step - loss: 1.0649 - accuracy: 0.7021 - val_loss: 7.7746 - val_accuracy: 0.0938\n",
            "Epoch 23/50\n",
            "15/15 [==============================] - 178s 12s/step - loss: 1.1909 - accuracy: 0.7208 - val_loss: 10.7332 - val_accuracy: 0.0469\n",
            "Epoch 24/50\n",
            "15/15 [==============================] - 176s 12s/step - loss: 1.1467 - accuracy: 0.6938 - val_loss: 7.1598 - val_accuracy: 0.0938\n",
            "Epoch 25/50\n",
            "15/15 [==============================] - 179s 12s/step - loss: 1.0073 - accuracy: 0.7583 - val_loss: 4.6895 - val_accuracy: 0.1094\n",
            "Epoch 26/50\n",
            "15/15 [==============================] - 177s 12s/step - loss: 1.0614 - accuracy: 0.7437 - val_loss: 8.0475 - val_accuracy: 0.0781\n",
            "Epoch 27/50\n",
            "15/15 [==============================] - 176s 12s/step - loss: 0.8050 - accuracy: 0.7688 - val_loss: 5.4535 - val_accuracy: 0.1250\n",
            "Epoch 28/50\n",
            "15/15 [==============================] - 180s 12s/step - loss: 0.8875 - accuracy: 0.7396 - val_loss: 7.5590 - val_accuracy: 0.0781\n",
            "Epoch 29/50\n",
            "15/15 [==============================] - 178s 12s/step - loss: 0.9997 - accuracy: 0.7583 - val_loss: 7.4590 - val_accuracy: 0.1719\n",
            "Epoch 30/50\n",
            "15/15 [==============================] - 179s 12s/step - loss: 0.9451 - accuracy: 0.7667 - val_loss: 10.0460 - val_accuracy: 0.1250\n",
            "Epoch 31/50\n",
            "15/15 [==============================] - 169s 11s/step - loss: 0.9821 - accuracy: 0.7527 - val_loss: 7.4961 - val_accuracy: 0.0781\n",
            "Epoch 32/50\n",
            "15/15 [==============================] - 179s 12s/step - loss: 0.7476 - accuracy: 0.7812 - val_loss: 7.8025 - val_accuracy: 0.0781\n",
            "Epoch 33/50\n",
            "15/15 [==============================] - 175s 12s/step - loss: 0.5789 - accuracy: 0.8188 - val_loss: 8.5568 - val_accuracy: 0.0625\n",
            "Epoch 34/50\n",
            "15/15 [==============================] - 176s 12s/step - loss: 0.7664 - accuracy: 0.8229 - val_loss: 10.3403 - val_accuracy: 0.0938\n",
            "Epoch 35/50\n",
            "15/15 [==============================] - 179s 12s/step - loss: 0.6763 - accuracy: 0.8188 - val_loss: 8.6031 - val_accuracy: 0.1094\n",
            "Epoch 36/50\n",
            "15/15 [==============================] - 176s 12s/step - loss: 0.7397 - accuracy: 0.8167 - val_loss: 8.4097 - val_accuracy: 0.0469\n",
            "Epoch 37/50\n",
            "15/15 [==============================] - 176s 12s/step - loss: 0.6403 - accuracy: 0.8354 - val_loss: 8.9135 - val_accuracy: 0.1562\n",
            "Epoch 38/50\n",
            "15/15 [==============================] - 175s 12s/step - loss: 0.4344 - accuracy: 0.8604 - val_loss: 14.2228 - val_accuracy: 0.0469\n",
            "Epoch 39/50\n",
            "15/15 [==============================] - 185s 12s/step - loss: 0.5924 - accuracy: 0.8271 - val_loss: 9.8408 - val_accuracy: 0.0469\n",
            "Epoch 40/50\n",
            "15/15 [==============================] - 176s 12s/step - loss: 0.4971 - accuracy: 0.8354 - val_loss: 8.9650 - val_accuracy: 0.1250\n",
            "Epoch 41/50\n",
            "15/15 [==============================] - 176s 12s/step - loss: 0.5692 - accuracy: 0.8562 - val_loss: 14.2484 - val_accuracy: 0.1094\n",
            "Epoch 42/50\n",
            "15/15 [==============================] - 178s 12s/step - loss: 0.6174 - accuracy: 0.8250 - val_loss: 9.9204 - val_accuracy: 0.1875\n",
            "Epoch 43/50\n",
            "15/15 [==============================] - 176s 12s/step - loss: 0.5743 - accuracy: 0.8250 - val_loss: 12.0300 - val_accuracy: 0.0781\n",
            "Epoch 44/50\n",
            "15/15 [==============================] - 176s 12s/step - loss: 0.4557 - accuracy: 0.8604 - val_loss: 11.1894 - val_accuracy: 0.0781\n",
            "Epoch 45/50\n",
            "15/15 [==============================] - 176s 12s/step - loss: 0.5643 - accuracy: 0.8313 - val_loss: 14.0962 - val_accuracy: 0.0469\n",
            "Epoch 46/50\n",
            "15/15 [==============================] - 177s 12s/step - loss: 0.4858 - accuracy: 0.8667 - val_loss: 10.2674 - val_accuracy: 0.1562\n",
            "Epoch 47/50\n",
            "15/15 [==============================] - 176s 12s/step - loss: 0.4621 - accuracy: 0.8708 - val_loss: 9.7757 - val_accuracy: 0.0781\n",
            "Epoch 48/50\n",
            "15/15 [==============================] - 175s 12s/step - loss: 0.6171 - accuracy: 0.8229 - val_loss: 9.1304 - val_accuracy: 0.1406\n",
            "Epoch 49/50\n",
            "15/15 [==============================] - 178s 12s/step - loss: 0.6532 - accuracy: 0.8646 - val_loss: 8.2211 - val_accuracy: 0.1719\n",
            "Epoch 50/50\n",
            "15/15 [==============================] - 176s 12s/step - loss: 0.5642 - accuracy: 0.8208 - val_loss: 6.8445 - val_accuracy: 0.1406\n"
          ],
          "name": "stdout"
        }
      ]
    },
    {
      "cell_type": "code",
      "metadata": {
        "id": "3IifDvytZAGu",
        "colab_type": "code",
        "outputId": "350b022f-da5f-44ca-b9ac-de4dd9c1275f",
        "colab": {
          "base_uri": "https://localhost:8080/",
          "height": 295
        }
      },
      "source": [
        "import matplotlib.pyplot as plt\n",
        "from keras.models import load_model\n",
        "\n",
        "plt.plot(history.history['acc'])\n",
        "plt.plot(history.history['val_acc'])\n",
        "plt.title('model accuracy')\n",
        "plt.ylabel('accuracy')\n",
        "plt.xlabel('epoch')\n",
        "plt.legend(['train', 'test'], loc='upper left')\n",
        "plt.show()"
      ],
      "execution_count": 0,
      "outputs": [
        {
          "output_type": "display_data",
          "data": {
            "image/png": "[encoded data removed]",
            "text/plain": [
              "<Figure size 432x288 with 1 Axes>"
            ]
          },
          "metadata": {
            "tags": []
          }
        }
      ]
    },
    {
      "cell_type": "code",
      "metadata": {
        "id": "3Cj3ypFjZB7S",
        "colab_type": "code",
        "outputId": "31ca512a-2319-43f8-8c1e-f5ccecfa8751",
        "colab": {
          "base_uri": "https://localhost:8080/",
          "height": 295
        }
      },
      "source": [
        "plt.plot(history.history['loss'])\n",
        "plt.plot(history.history['val_loss'])\n",
        "plt.title('model loss')\n",
        "plt.ylabel('loss')\n",
        "plt.xlabel('epoch')\n",
        "plt.legend(['train', 'test'], loc='upper left')\n",
        "plt.show()"
      ],
      "execution_count": 0,
      "outputs": [
        {
          "output_type": "display_data",
          "data": {
            "image/png": "[encoded data removed]",
            "text/plain": [
              "<Figure size 432x288 with 1 Axes>"
            ]
          },
          "metadata": {
            "tags": []
          }
        }
      ]
    }
  ]
}