{
  "nbformat": 4,
  "nbformat_minor": 0,
  "metadata": {
    "colab": {
      "name": "LeNet.ipynb",
      "provenance": [],
      "collapsed_sections": []
    },
    "kernelspec": {
      "name": "python3",
      "display_name": "Python 3"
    }
  },
  "cells": [
    {
      "cell_type": "code",
      "metadata": {
        "id": "MHDuxpyr7zn3",
        "colab_type": "code",
        "colab": {}
      },
      "source": [
        "from requests import get\n",
        "\n",
        "def download_file(url, file_name):\n",
        "    with open(file_name, \"wb\") as file:\n",
        "        response = get(url)\n",
        "        file.write(response.content)"
      ],
      "execution_count": 0,
      "outputs": []
    },
    {
      "cell_type": "code",
      "metadata": {
        "id": "4s1Q4ZqOmS4N",
        "colab_type": "code",
        "colab": {}
      },
      "source": [
        "download_file('http://yann.lecun.com/exdb/mnist/train-images-idx3-ubyte.gz', 'train-images-idx3-ubyte.gz')\n",
        "download_file('http://yann.lecun.com/exdb/mnist/train-labels-idx1-ubyte.gz', 'train-labels-idx1-ubyte.gz')\n",
        "download_file('http://yann.lecun.com/exdb/mnist/t10k-images-idx3-ubyte.gz', 't10k-images-idx3-ubyte.gz')\n",
        "download_file('http://yann.lecun.com/exdb/mnist/t10k-labels-idx1-ubyte.gz', 't10k-labels-idx1-ubyte.gz')"
      ],
      "execution_count": 0,
      "outputs": []
    },
    {
      "cell_type": "code",
      "metadata": {
        "id": "Z8BBJJ3ombbC",
        "colab_type": "code",
        "outputId": "00132eea-5796-4c75-b1e9-319d74d8b5e0",
        "colab": {
          "base_uri": "https://localhost:8080/",
          "height": 386
        }
      },
      "source": [
        "# Update libraries\n",
        "!pip install seaborn==0.9.0"
      ],
      "execution_count": 0,
      "outputs": [
        {
          "output_type": "stream",
          "text": [
            "Collecting seaborn==0.9.0\n",
            "\u001b[?25l  Downloading https://files.pythonhosted.org/packages/a8/76/220ba4420459d9c4c9c9587c6ce607bf56c25b3d3d2de62056efe482dadc/seaborn-0.9.0-py3-none-any.whl (208kB)\n",
            "\u001b[K     |████████████████████████████████| 215kB 2.8MB/s \n",
            "\u001b[?25hRequirement already satisfied: scipy>=0.14.0 in /usr/local/lib/python3.6/dist-packages (from seaborn==0.9.0) (1.4.1)\n",
            "Requirement already satisfied: pandas>=0.15.2 in /usr/local/lib/python3.6/dist-packages (from seaborn==0.9.0) (0.25.3)\n",
            "Requirement already satisfied: matplotlib>=1.4.3 in /usr/local/lib/python3.6/dist-packages (from seaborn==0.9.0) (3.1.3)\n",
            "Requirement already satisfied: numpy>=1.9.3 in /usr/local/lib/python3.6/dist-packages (from seaborn==0.9.0) (1.17.5)\n",
            "Requirement already satisfied: python-dateutil>=2.6.1 in /usr/local/lib/python3.6/dist-packages (from pandas>=0.15.2->seaborn==0.9.0) (2.6.1)\n",
            "Requirement already satisfied: pytz>=2017.2 in /usr/local/lib/python3.6/dist-packages (from pandas>=0.15.2->seaborn==0.9.0) (2018.9)\n",
            "Requirement already satisfied: pyparsing!=2.0.4,!=2.1.2,!=2.1.6,>=2.0.1 in /usr/local/lib/python3.6/dist-packages (from matplotlib>=1.4.3->seaborn==0.9.0) (2.4.6)\n",
            "Requirement already satisfied: kiwisolver>=1.0.1 in /usr/local/lib/python3.6/dist-packages (from matplotlib>=1.4.3->seaborn==0.9.0) (1.1.0)\n",
            "Requirement already satisfied: cycler>=0.10 in /usr/local/lib/python3.6/dist-packages (from matplotlib>=1.4.3->seaborn==0.9.0) (0.10.0)\n",
            "Requirement already satisfied: six>=1.5 in /usr/local/lib/python3.6/dist-packages (from python-dateutil>=2.6.1->pandas>=0.15.2->seaborn==0.9.0) (1.12.0)\n",
            "Requirement already satisfied: setuptools in /usr/local/lib/python3.6/dist-packages (from kiwisolver>=1.0.1->matplotlib>=1.4.3->seaborn==0.9.0) (45.1.0)\n",
            "Installing collected packages: seaborn\n",
            "  Found existing installation: seaborn 0.10.0\n",
            "    Uninstalling seaborn-0.10.0:\n",
            "      Successfully uninstalled seaborn-0.10.0\n",
            "Successfully installed seaborn-0.9.0\n"
          ],
          "name": "stdout"
        }
      ]
    },
    {
      "cell_type": "code",
      "metadata": {
        "id": "4ANt39Mbmiiv",
        "colab_type": "code",
        "outputId": "f91e829f-f0b2-4615-da46-a87443406cc6",
        "colab": {
          "base_uri": "https://localhost:8080/",
          "height": 83
        }
      },
      "source": [
        "import gzip\n",
        "import numpy as np\n",
        "import pandas as pd\n",
        "from time import time\n",
        "\n",
        "from sklearn.model_selection import train_test_split\n",
        "import tensorflow as tf\n",
        "import keras\n",
        "import keras.layers as layers\n",
        "from keras.models import Sequential\n",
        "from keras.preprocessing.image import ImageDataGenerator\n",
        "from keras.utils.np_utils import to_categorical\n",
        "from keras.callbacks import TensorBoard\n",
        "\n",
        "%matplotlib inline\n",
        "import matplotlib.pyplot as plt\n",
        "import seaborn as sns\n",
        "sns.set()"
      ],
      "execution_count": 0,
      "outputs": [
        {
          "output_type": "display_data",
          "data": {
            "text/html": [
              "<p style=\"color: red;\">\n",
              "The default version of TensorFlow in Colab will soon switch to TensorFlow 2.x.<br>\n",
              "We recommend you <a href=\"https://www.tensorflow.org/guide/migrate\" target=\"_blank\">upgrade</a> now \n",
              "or ensure your notebook will continue to use TensorFlow 1.x via the <code>%tensorflow_version 1.x</code> magic:\n",
              "<a href=\"https://colab.research.google.com/notebooks/tensorflow_version.ipynb\" target=\"_blank\">more info</a>.</p>\n"
            ],
            "text/plain": [
              "<IPython.core.display.HTML object>"
            ]
          },
          "metadata": {
            "tags": []
          }
        },
        {
          "output_type": "stream",
          "text": [
            "Using TensorFlow backend.\n"
          ],
          "name": "stderr"
        }
      ]
    },
    {
      "cell_type": "code",
      "metadata": {
        "id": "byb5UObnmnsj",
        "colab_type": "code",
        "colab": {}
      },
      "source": [
        "def read_mnist(images_path: str, labels_path: str):\n",
        "    with gzip.open(labels_path, 'rb') as labelsFile:\n",
        "        labels = np.frombuffer(labelsFile.read(), dtype=np.uint8, offset=8)\n",
        "\n",
        "    with gzip.open(images_path,'rb') as imagesFile:\n",
        "        length = len(labels)\n",
        "        # Load flat 28x28 px images (784 px), and convert them to 28x28 px\n",
        "        features = np.frombuffer(imagesFile.read(), dtype=np.uint8, offset=16) \\\n",
        "                        .reshape(length, 784) \\\n",
        "                        .reshape(length, 28, 28, 1)\n",
        "        \n",
        "    return features, labels"
      ],
      "execution_count": 0,
      "outputs": []
    },
    {
      "cell_type": "code",
      "metadata": {
        "id": "ywEbsXawm8jb",
        "colab_type": "code",
        "colab": {}
      },
      "source": [
        "train = {}\n",
        "test = {}\n",
        "\n",
        "train['features'], train['labels'] = read_mnist('train-images-idx3-ubyte.gz', 'train-labels-idx1-ubyte.gz')\n",
        "test['features'], test['labels'] = read_mnist('t10k-images-idx3-ubyte.gz', 't10k-labels-idx1-ubyte.gz')"
      ],
      "execution_count": 0,
      "outputs": []
    },
    {
      "cell_type": "code",
      "metadata": {
        "id": "wA_GKq_Ym-WB",
        "colab_type": "code",
        "outputId": "ba66f3a7-1806-4d56-e1d0-164c0ae50706",
        "colab": {
          "base_uri": "https://localhost:8080/",
          "height": 54
        }
      },
      "source": [
        "print('# of training images:', train['features'].shape[0])\n",
        "print('# of test images:', test['features'].shape[0])"
      ],
      "execution_count": 0,
      "outputs": [
        {
          "output_type": "stream",
          "text": [
            "# of training images: 60000\n",
            "# of test images: 10000\n"
          ],
          "name": "stdout"
        }
      ]
    },
    {
      "cell_type": "code",
      "metadata": {
        "id": "jZtMbqIvnPBP",
        "colab_type": "code",
        "colab": {}
      },
      "source": [
        "def display_image(position):\n",
        "    image = train['features'][position].squeeze()\n",
        "    plt.title('Example %d. Label: %d' % (position, train['labels'][position]))\n",
        "    plt.imshow(image, cmap=plt.cm.gray_r)"
      ],
      "execution_count": 0,
      "outputs": []
    },
    {
      "cell_type": "code",
      "metadata": {
        "id": "wGrG9rsrnR_H",
        "colab_type": "code",
        "outputId": "0f0c05ae-9e2e-4a5d-fa8f-02e7f039e2e5",
        "colab": {
          "base_uri": "https://localhost:8080/",
          "height": 284
        }
      },
      "source": [
        "display_image(7)"
      ],
      "execution_count": 0,
      "outputs": [
        {
          "output_type": "display_data",
          "data": {
            "image/png": "[encoded data removed]",
            "text/plain": [
              "<Figure size 432x288 with 1 Axes>"
            ]
          },
          "metadata": {
            "tags": []
          }
        }
      ]
    },
    {
      "cell_type": "code",
      "metadata": {
        "id": "qyH_7LfxojUB",
        "colab_type": "code",
        "outputId": "26836515-5751-46fd-ecf2-1cbfb8e96478",
        "colab": {
          "base_uri": "https://localhost:8080/",
          "height": 284
        }
      },
      "source": [
        "display_image(10)"
      ],
      "execution_count": 0,
      "outputs": [
        {
          "output_type": "display_data",
          "data": {
            "image/png": "[encoded data removed]",
            "text/plain": [
              "<Figure size 432x288 with 1 Axes>"
            ]
          },
          "metadata": {
            "tags": []
          }
        }
      ]
    },
    {
      "cell_type": "code",
      "metadata": {
        "id": "FcbjoVQBopBk",
        "colab_type": "code",
        "outputId": "3168e1c0-4d88-4849-e49d-6d9c065e3266",
        "colab": {
          "base_uri": "https://localhost:8080/",
          "height": 363
        }
      },
      "source": [
        "train_labels_count = np.unique(train['labels'], return_counts=True)\n",
        "dataframe_train_labels = pd.DataFrame({'Label':train_labels_count[0], 'Count':train_labels_count[1]})\n",
        "dataframe_train_labels"
      ],
      "execution_count": 0,
      "outputs": [
        {
          "output_type": "execute_result",
          "data": {
            "text/html": [
              "<div>\n",
              "<style scoped>\n",
              "    .dataframe tbody tr th:only-of-type {\n",
              "        vertical-align: middle;\n",
              "    }\n",
              "\n",
              "    .dataframe tbody tr th {\n",
              "        vertical-align: top;\n",
              "    }\n",
              "\n",
              "    .dataframe thead th {\n",
              "        text-align: right;\n",
              "    }\n",
              "</style>\n",
              "<table border=\"1\" class=\"dataframe\">\n",
              "  <thead>\n",
              "    <tr style=\"text-align: right;\">\n",
              "      <th></th>\n",
              "      <th>Label</th>\n",
              "      <th>Count</th>\n",
              "    </tr>\n",
              "  </thead>\n",
              "  <tbody>\n",
              "    <tr>\n",
              "      <th>0</th>\n",
              "      <td>0</td>\n",
              "      <td>5923</td>\n",
              "    </tr>\n",
              "    <tr>\n",
              "      <th>1</th>\n",
              "      <td>1</td>\n",
              "      <td>6742</td>\n",
              "    </tr>\n",
              "    <tr>\n",
              "      <th>2</th>\n",
              "      <td>2</td>\n",
              "      <td>5958</td>\n",
              "    </tr>\n",
              "    <tr>\n",
              "      <th>3</th>\n",
              "      <td>3</td>\n",
              "      <td>6131</td>\n",
              "    </tr>\n",
              "    <tr>\n",
              "      <th>4</th>\n",
              "      <td>4</td>\n",
              "      <td>5842</td>\n",
              "    </tr>\n",
              "    <tr>\n",
              "      <th>5</th>\n",
              "      <td>5</td>\n",
              "      <td>5421</td>\n",
              "    </tr>\n",
              "    <tr>\n",
              "      <th>6</th>\n",
              "      <td>6</td>\n",
              "      <td>5918</td>\n",
              "    </tr>\n",
              "    <tr>\n",
              "      <th>7</th>\n",
              "      <td>7</td>\n",
              "      <td>6265</td>\n",
              "    </tr>\n",
              "    <tr>\n",
              "      <th>8</th>\n",
              "      <td>8</td>\n",
              "      <td>5851</td>\n",
              "    </tr>\n",
              "    <tr>\n",
              "      <th>9</th>\n",
              "      <td>9</td>\n",
              "      <td>5949</td>\n",
              "    </tr>\n",
              "  </tbody>\n",
              "</table>\n",
              "</div>"
            ],
            "text/plain": [
              "   Label  Count\n",
              "0      0   5923\n",
              "1      1   6742\n",
              "2      2   5958\n",
              "3      3   6131\n",
              "4      4   5842\n",
              "5      5   5421\n",
              "6      6   5918\n",
              "7      7   6265\n",
              "8      8   5851\n",
              "9      9   5949"
            ]
          },
          "metadata": {
            "tags": []
          },
          "execution_count": 15
        }
      ]
    },
    {
      "cell_type": "code",
      "metadata": {
        "id": "Wv2D4DPTo1ui",
        "colab_type": "code",
        "colab": {}
      },
      "source": [
        "validation = {}\n",
        "train['features'], validation['features'], train['labels'], validation['labels'] = train_test_split(train['features'], train['labels'], test_size=0.2, random_state=0)"
      ],
      "execution_count": 0,
      "outputs": []
    },
    {
      "cell_type": "code",
      "metadata": {
        "id": "B3sPhyado_32",
        "colab_type": "code",
        "outputId": "07c7e654-8ab2-4891-b09f-8d6b10d80543",
        "colab": {
          "base_uri": "https://localhost:8080/",
          "height": 54
        }
      },
      "source": [
        "print('# of training images:', train['features'].shape[0])\n",
        "print('# of validation images:', validation['features'].shape[0])"
      ],
      "execution_count": 0,
      "outputs": [
        {
          "output_type": "stream",
          "text": [
            "# of training images: 48000\n",
            "# of validation images: 12000\n"
          ],
          "name": "stdout"
        }
      ]
    },
    {
      "cell_type": "code",
      "metadata": {
        "id": "tJ1FuMm7pBtU",
        "colab_type": "code",
        "outputId": "5211a734-db19-4062-a675-eadb3bcd52ff",
        "colab": {
          "base_uri": "https://localhost:8080/",
          "height": 35
        }
      },
      "source": [
        "# Pad images with 0s\n",
        "train['features']      = np.pad(train['features'], ((0,0),(2,2),(2,2),(0,0)), 'constant')\n",
        "validation['features'] = np.pad(validation['features'], ((0,0),(2,2),(2,2),(0,0)), 'constant')\n",
        "test['features']       = np.pad(test['features'], ((0,0),(2,2),(2,2),(0,0)), 'constant')\n",
        "    \n",
        "print(\"Updated Image Shape: {}\".format(train['features'][0].shape))"
      ],
      "execution_count": 0,
      "outputs": [
        {
          "output_type": "stream",
          "text": [
            "Updated Image Shape: (32, 32, 1)\n"
          ],
          "name": "stdout"
        }
      ]
    },
    {
      "cell_type": "code",
      "metadata": {
        "id": "y9tRZ90lpFfa",
        "colab_type": "code",
        "outputId": "d07376f7-6404-44bd-b2fd-eccad19b9913",
        "colab": {
          "base_uri": "https://localhost:8080/",
          "height": 184
        }
      },
      "source": [
        "model = keras.Sequential()\n",
        "\n",
        "model.add(layers.Conv2D(filters=6, kernel_size=(3, 3), activation='relu', input_shape=(32,32,1)))\n",
        "model.add(layers.AveragePooling2D())\n",
        "\n",
        "model.add(layers.Conv2D(filters=16, kernel_size=(3, 3), activation='relu'))\n",
        "model.add(layers.AveragePooling2D())\n",
        "\n",
        "model.add(layers.Flatten())\n",
        "\n",
        "model.add(layers.Dense(units=120, activation='relu'))\n",
        "\n",
        "model.add(layers.Dense(units=84, activation='relu'))\n",
        "\n",
        "model.add(layers.Dense(units=10, activation = 'softmax'))"
      ],
      "execution_count": 0,
      "outputs": [
        {
          "output_type": "stream",
          "text": [
            "WARNING:tensorflow:From /usr/local/lib/python3.6/dist-packages/keras/backend/tensorflow_backend.py:66: The name tf.get_default_graph is deprecated. Please use tf.compat.v1.get_default_graph instead.\n",
            "\n",
            "WARNING:tensorflow:From /usr/local/lib/python3.6/dist-packages/keras/backend/tensorflow_backend.py:541: The name tf.placeholder is deprecated. Please use tf.compat.v1.placeholder instead.\n",
            "\n",
            "WARNING:tensorflow:From /usr/local/lib/python3.6/dist-packages/keras/backend/tensorflow_backend.py:4432: The name tf.random_uniform is deprecated. Please use tf.random.uniform instead.\n",
            "\n",
            "WARNING:tensorflow:From /usr/local/lib/python3.6/dist-packages/keras/backend/tensorflow_backend.py:4271: The name tf.nn.avg_pool is deprecated. Please use tf.nn.avg_pool2d instead.\n",
            "\n"
          ],
          "name": "stdout"
        }
      ]
    },
    {
      "cell_type": "code",
      "metadata": {
        "id": "RSezVHappYvk",
        "colab_type": "code",
        "outputId": "0d296e1f-8475-4bb5-878a-b90ecbeb9932",
        "colab": {
          "base_uri": "https://localhost:8080/",
          "height": 458
        }
      },
      "source": [
        "model.summary()"
      ],
      "execution_count": 0,
      "outputs": [
        {
          "output_type": "stream",
          "text": [
            "Model: \"sequential_1\"\n",
            "_________________________________________________________________\n",
            "Layer (type)                 Output Shape              Param #   \n",
            "=================================================================\n",
            "conv2d_1 (Conv2D)            (None, 30, 30, 6)         60        \n",
            "_________________________________________________________________\n",
            "average_pooling2d_1 (Average (None, 15, 15, 6)         0         \n",
            "_________________________________________________________________\n",
            "conv2d_2 (Conv2D)            (None, 13, 13, 16)        880       \n",
            "_________________________________________________________________\n",
            "average_pooling2d_2 (Average (None, 6, 6, 16)          0         \n",
            "_________________________________________________________________\n",
            "flatten_1 (Flatten)          (None, 576)               0         \n",
            "_________________________________________________________________\n",
            "dense_1 (Dense)              (None, 120)               69240     \n",
            "_________________________________________________________________\n",
            "dense_2 (Dense)              (None, 84)                10164     \n",
            "_________________________________________________________________\n",
            "dense_3 (Dense)              (None, 10)                850       \n",
            "=================================================================\n",
            "Total params: 81,194\n",
            "Trainable params: 81,194\n",
            "Non-trainable params: 0\n",
            "_________________________________________________________________\n"
          ],
          "name": "stdout"
        }
      ]
    },
    {
      "cell_type": "code",
      "metadata": {
        "id": "FPmRIr3Fpacv",
        "colab_type": "code",
        "outputId": "683952fe-a142-428c-907d-a013392d5dae",
        "colab": {
          "base_uri": "https://localhost:8080/",
          "height": 110
        }
      },
      "source": [
        "model.compile(loss=keras.losses.categorical_crossentropy, optimizer=keras.optimizers.Adam(), metrics=['accuracy'])"
      ],
      "execution_count": 0,
      "outputs": [
        {
          "output_type": "stream",
          "text": [
            "WARNING:tensorflow:From /usr/local/lib/python3.6/dist-packages/keras/optimizers.py:793: The name tf.train.Optimizer is deprecated. Please use tf.compat.v1.train.Optimizer instead.\n",
            "\n",
            "WARNING:tensorflow:From /usr/local/lib/python3.6/dist-packages/keras/backend/tensorflow_backend.py:3576: The name tf.log is deprecated. Please use tf.math.log instead.\n",
            "\n"
          ],
          "name": "stdout"
        }
      ]
    },
    {
      "cell_type": "markdown",
      "metadata": {
        "id": "gWuvJQZb_g1Z",
        "colab_type": "text"
      },
      "source": [
        "Epoch = 50"
      ]
    },
    {
      "cell_type": "code",
      "metadata": {
        "id": "vYpa7H7xpkWD",
        "colab_type": "code",
        "colab": {}
      },
      "source": [
        "EPOCHS = 50\n",
        "BATCH_SIZE = 128"
      ],
      "execution_count": 0,
      "outputs": []
    },
    {
      "cell_type": "code",
      "metadata": {
        "id": "j-HtLqyeqA3X",
        "colab_type": "code",
        "colab": {}
      },
      "source": [
        "X_train, y_train = train['features'], to_categorical(train['labels'])\n",
        "X_validation, y_validation = validation['features'], to_categorical(validation['labels'])\n",
        "\n",
        "train_generator = ImageDataGenerator().flow(X_train, y_train, batch_size=BATCH_SIZE)\n",
        "validation_generator = ImageDataGenerator().flow(X_validation, y_validation, batch_size=BATCH_SIZE)"
      ],
      "execution_count": 0,
      "outputs": []
    },
    {
      "cell_type": "code",
      "metadata": {
        "id": "lRB_tf9swh3Y",
        "colab_type": "code",
        "colab": {}
      },
      "source": [
        "!wget https://bin.equinox.io/c/4VmDzA7iaHb/ngrok-stable-linux-amd64.zip\n",
        "!unzip -o ngrok-stable-linux-amd64.zip\n",
        "\n",
        "LOG_DIR = 'logs'\n",
        "get_ipython().system_raw(\n",
        "    'tensorboard --logdir {} --host 0.0.0.0 --port 6006 &'\n",
        "    .format(LOG_DIR)\n",
        ")\n",
        "\n",
        "get_ipython().system_raw('./ngrok http 6006 &')"
      ],
      "execution_count": 0,
      "outputs": []
    },
    {
      "cell_type": "code",
      "metadata": {
        "id": "DJ_lvGvqqWf0",
        "colab_type": "code",
        "outputId": "58c3b7d4-77bf-4bd3-f0fc-cc7e38196f02",
        "colab": {
          "base_uri": "https://localhost:8080/",
          "height": 1000
        }
      },
      "source": [
        "print('# of training images:', train['features'].shape[0])\n",
        "print('# of validation images:', validation['features'].shape[0])\n",
        "\n",
        "steps_per_epoch = X_train.shape[0]//BATCH_SIZE\n",
        "validation_steps = X_validation.shape[0]//BATCH_SIZE\n",
        "\n",
        "tensorboard = TensorBoard(log_dir=\"logs/{}\".format(time()))\n",
        "model.fit_generator(train_generator, steps_per_epoch=steps_per_epoch, epochs=EPOCHS, \n",
        "                    validation_data=validation_generator, validation_steps=validation_steps, \n",
        "                    shuffle=True, callbacks=[tensorboard])"
      ],
      "execution_count": 0,
      "outputs": [
        {
          "output_type": "stream",
          "text": [
            "# of training images: 48000\n",
            "# of validation images: 12000\n",
            "WARNING:tensorflow:From /usr/local/lib/python3.6/dist-packages/tensorflow_core/python/ops/math_grad.py:1424: where (from tensorflow.python.ops.array_ops) is deprecated and will be removed in a future version.\n",
            "Instructions for updating:\n",
            "Use tf.where in 2.0, which has the same broadcast rule as np.where\n",
            "WARNING:tensorflow:From /usr/local/lib/python3.6/dist-packages/keras/backend/tensorflow_backend.py:1033: The name tf.assign_add is deprecated. Please use tf.compat.v1.assign_add instead.\n",
            "\n",
            "WARNING:tensorflow:From /usr/local/lib/python3.6/dist-packages/keras/backend/tensorflow_backend.py:1020: The name tf.assign is deprecated. Please use tf.compat.v1.assign instead.\n",
            "\n",
            "WARNING:tensorflow:From /usr/local/lib/python3.6/dist-packages/keras/backend/tensorflow_backend.py:3005: The name tf.Session is deprecated. Please use tf.compat.v1.Session instead.\n",
            "\n",
            "WARNING:tensorflow:From /usr/local/lib/python3.6/dist-packages/keras/backend/tensorflow_backend.py:190: The name tf.get_default_session is deprecated. Please use tf.compat.v1.get_default_session instead.\n",
            "\n",
            "WARNING:tensorflow:From /usr/local/lib/python3.6/dist-packages/keras/backend/tensorflow_backend.py:197: The name tf.ConfigProto is deprecated. Please use tf.compat.v1.ConfigProto instead.\n",
            "\n",
            "WARNING:tensorflow:From /usr/local/lib/python3.6/dist-packages/keras/backend/tensorflow_backend.py:207: The name tf.global_variables is deprecated. Please use tf.compat.v1.global_variables instead.\n",
            "\n",
            "WARNING:tensorflow:From /usr/local/lib/python3.6/dist-packages/keras/backend/tensorflow_backend.py:216: The name tf.is_variable_initialized is deprecated. Please use tf.compat.v1.is_variable_initialized instead.\n",
            "\n",
            "WARNING:tensorflow:From /usr/local/lib/python3.6/dist-packages/keras/backend/tensorflow_backend.py:223: The name tf.variables_initializer is deprecated. Please use tf.compat.v1.variables_initializer instead.\n",
            "\n",
            "WARNING:tensorflow:From /usr/local/lib/python3.6/dist-packages/keras/callbacks.py:1122: The name tf.summary.merge_all is deprecated. Please use tf.compat.v1.summary.merge_all instead.\n",
            "\n",
            "WARNING:tensorflow:From /usr/local/lib/python3.6/dist-packages/keras/callbacks.py:1125: The name tf.summary.FileWriter is deprecated. Please use tf.compat.v1.summary.FileWriter instead.\n",
            "\n",
            "Epoch 1/50\n",
            "375/375 [==============================] - 23s 60ms/step - loss: 0.5323 - acc: 0.9026 - val_loss: 0.1014 - val_acc: 0.9696\n",
            "WARNING:tensorflow:From /usr/local/lib/python3.6/dist-packages/keras/callbacks.py:1265: The name tf.Summary is deprecated. Please use tf.compat.v1.Summary instead.\n",
            "\n",
            "Epoch 2/50\n",
            "375/375 [==============================] - 22s 59ms/step - loss: 0.0795 - acc: 0.9757 - val_loss: 0.0717 - val_acc: 0.9786\n",
            "Epoch 3/50\n",
            "375/375 [==============================] - 23s 60ms/step - loss: 0.0522 - acc: 0.9835 - val_loss: 0.0565 - val_acc: 0.9834\n",
            "Epoch 4/50\n",
            "375/375 [==============================] - 22s 59ms/step - loss: 0.0386 - acc: 0.9879 - val_loss: 0.0577 - val_acc: 0.9833\n",
            "Epoch 5/50\n",
            "375/375 [==============================] - 22s 60ms/step - loss: 0.0342 - acc: 0.9888 - val_loss: 0.0505 - val_acc: 0.9844\n",
            "Epoch 6/50\n",
            "375/375 [==============================] - 22s 59ms/step - loss: 0.0272 - acc: 0.9910 - val_loss: 0.0480 - val_acc: 0.9874\n",
            "Epoch 7/50\n",
            "375/375 [==============================] - 22s 59ms/step - loss: 0.0243 - acc: 0.9920 - val_loss: 0.0492 - val_acc: 0.9851\n",
            "Epoch 8/50\n",
            "375/375 [==============================] - 23s 61ms/step - loss: 0.0205 - acc: 0.9929 - val_loss: 0.0938 - val_acc: 0.9763\n",
            "Epoch 9/50\n",
            "375/375 [==============================] - 22s 59ms/step - loss: 0.0201 - acc: 0.9934 - val_loss: 0.0549 - val_acc: 0.9853\n",
            "Epoch 10/50\n",
            "375/375 [==============================] - 22s 59ms/step - loss: 0.0184 - acc: 0.9941 - val_loss: 0.0594 - val_acc: 0.9837\n",
            "Epoch 11/50\n",
            "375/375 [==============================] - 22s 59ms/step - loss: 0.0160 - acc: 0.9946 - val_loss: 0.0487 - val_acc: 0.9864\n",
            "Epoch 12/50\n",
            "375/375 [==============================] - 22s 60ms/step - loss: 0.0146 - acc: 0.9951 - val_loss: 0.0589 - val_acc: 0.9857\n",
            "Epoch 13/50\n",
            "375/375 [==============================] - 22s 60ms/step - loss: 0.0129 - acc: 0.9957 - val_loss: 0.0645 - val_acc: 0.9841\n",
            "Epoch 14/50\n",
            "375/375 [==============================] - 22s 59ms/step - loss: 0.0109 - acc: 0.9964 - val_loss: 0.0531 - val_acc: 0.9872\n",
            "Epoch 15/50\n",
            "375/375 [==============================] - 23s 60ms/step - loss: 0.0139 - acc: 0.9956 - val_loss: 0.0613 - val_acc: 0.9853\n",
            "Epoch 16/50\n",
            "375/375 [==============================] - 22s 58ms/step - loss: 0.0105 - acc: 0.9962 - val_loss: 0.0482 - val_acc: 0.9885\n",
            "Epoch 17/50\n",
            "375/375 [==============================] - 22s 58ms/step - loss: 0.0089 - acc: 0.9970 - val_loss: 0.0700 - val_acc: 0.9863\n",
            "Epoch 18/50\n",
            "375/375 [==============================] - 22s 57ms/step - loss: 0.0131 - acc: 0.9960 - val_loss: 0.0541 - val_acc: 0.9880\n",
            "Epoch 19/50\n",
            "375/375 [==============================] - 22s 58ms/step - loss: 0.0093 - acc: 0.9969 - val_loss: 0.0605 - val_acc: 0.9871\n",
            "Epoch 20/50\n",
            "375/375 [==============================] - 22s 58ms/step - loss: 0.0102 - acc: 0.9969 - val_loss: 0.0612 - val_acc: 0.9864\n",
            "Epoch 21/50\n",
            "375/375 [==============================] - 21s 57ms/step - loss: 0.0095 - acc: 0.9969 - val_loss: 0.0788 - val_acc: 0.9860\n",
            "Epoch 22/50\n",
            "375/375 [==============================] - 22s 59ms/step - loss: 0.0088 - acc: 0.9972 - val_loss: 0.0567 - val_acc: 0.9874\n",
            "Epoch 23/50\n",
            "375/375 [==============================] - 22s 57ms/step - loss: 0.0047 - acc: 0.9987 - val_loss: 0.0589 - val_acc: 0.9909\n",
            "Epoch 24/50\n",
            "375/375 [==============================] - 21s 57ms/step - loss: 0.0086 - acc: 0.9972 - val_loss: 0.0748 - val_acc: 0.9856\n",
            "Epoch 25/50\n",
            "375/375 [==============================] - 22s 57ms/step - loss: 0.0090 - acc: 0.9968 - val_loss: 0.0540 - val_acc: 0.9879\n",
            "Epoch 26/50\n",
            "375/375 [==============================] - 22s 57ms/step - loss: 0.0044 - acc: 0.9985 - val_loss: 0.0609 - val_acc: 0.9879\n",
            "Epoch 27/50\n",
            "375/375 [==============================] - 22s 58ms/step - loss: 0.0092 - acc: 0.9970 - val_loss: 0.0721 - val_acc: 0.9858\n",
            "Epoch 28/50\n",
            "375/375 [==============================] - 22s 58ms/step - loss: 0.0070 - acc: 0.9980 - val_loss: 0.0606 - val_acc: 0.9880\n",
            "Epoch 29/50\n",
            "375/375 [==============================] - 21s 57ms/step - loss: 0.0055 - acc: 0.9985 - val_loss: 0.0709 - val_acc: 0.9874\n",
            "Epoch 30/50\n",
            "375/375 [==============================] - 21s 57ms/step - loss: 0.0113 - acc: 0.9968 - val_loss: 0.0864 - val_acc: 0.9845\n",
            "Epoch 31/50\n",
            "375/375 [==============================] - 22s 58ms/step - loss: 0.0068 - acc: 0.9977 - val_loss: 0.0599 - val_acc: 0.9890\n",
            "Epoch 32/50\n",
            "375/375 [==============================] - 21s 57ms/step - loss: 0.0055 - acc: 0.9984 - val_loss: 0.0797 - val_acc: 0.9864\n",
            "Epoch 33/50\n",
            "375/375 [==============================] - 21s 57ms/step - loss: 0.0065 - acc: 0.9978 - val_loss: 0.0769 - val_acc: 0.9859\n",
            "Epoch 34/50\n",
            "375/375 [==============================] - 22s 58ms/step - loss: 0.0075 - acc: 0.9976 - val_loss: 0.0670 - val_acc: 0.9887\n",
            "Epoch 35/50\n",
            "375/375 [==============================] - 21s 57ms/step - loss: 0.0029 - acc: 0.9991 - val_loss: 0.0720 - val_acc: 0.9878\n",
            "Epoch 36/50\n",
            "375/375 [==============================] - 22s 58ms/step - loss: 0.0034 - acc: 0.9989 - val_loss: 0.0783 - val_acc: 0.9869\n",
            "Epoch 37/50\n",
            "375/375 [==============================] - 22s 58ms/step - loss: 0.0056 - acc: 0.9985 - val_loss: 0.0615 - val_acc: 0.9884\n",
            "Epoch 38/50\n",
            "375/375 [==============================] - 22s 57ms/step - loss: 0.0054 - acc: 0.9983 - val_loss: 0.0809 - val_acc: 0.9880\n",
            "Epoch 39/50\n",
            "375/375 [==============================] - 22s 57ms/step - loss: 0.0076 - acc: 0.9975 - val_loss: 0.0816 - val_acc: 0.9886\n",
            "Epoch 40/50\n",
            "375/375 [==============================] - 22s 58ms/step - loss: 0.0074 - acc: 0.9978 - val_loss: 0.0747 - val_acc: 0.9889\n",
            "Epoch 41/50\n",
            "375/375 [==============================] - 22s 57ms/step - loss: 0.0041 - acc: 0.9985 - val_loss: 0.0622 - val_acc: 0.9902\n",
            "Epoch 42/50\n",
            "375/375 [==============================] - 22s 58ms/step - loss: 0.0067 - acc: 0.9983 - val_loss: 0.0710 - val_acc: 0.9889\n",
            "Epoch 43/50\n",
            "375/375 [==============================] - 21s 57ms/step - loss: 0.0028 - acc: 0.9991 - val_loss: 0.0830 - val_acc: 0.9878\n",
            "Epoch 44/50\n",
            "375/375 [==============================] - 21s 57ms/step - loss: 0.0033 - acc: 0.9991 - val_loss: 0.0606 - val_acc: 0.9891\n",
            "Epoch 45/50\n",
            "375/375 [==============================] - 22s 58ms/step - loss: 0.0055 - acc: 0.9983 - val_loss: 0.0873 - val_acc: 0.9852\n",
            "Epoch 46/50\n",
            "375/375 [==============================] - 21s 57ms/step - loss: 0.0046 - acc: 0.9986 - val_loss: 0.0657 - val_acc: 0.9896\n",
            "Epoch 47/50\n",
            "375/375 [==============================] - 21s 57ms/step - loss: 0.0065 - acc: 0.9985 - val_loss: 0.0813 - val_acc: 0.9869\n",
            "Epoch 48/50\n",
            "375/375 [==============================] - 22s 57ms/step - loss: 0.0031 - acc: 0.9992 - val_loss: 0.0543 - val_acc: 0.9919\n",
            "Epoch 49/50\n",
            "375/375 [==============================] - 22s 57ms/step - loss: 0.0013 - acc: 0.9996 - val_loss: 0.0698 - val_acc: 0.9894\n",
            "Epoch 50/50\n",
            "375/375 [==============================] - 21s 57ms/step - loss: 4.5923e-04 - acc: 0.9999 - val_loss: 0.0630 - val_acc: 0.9912\n"
          ],
          "name": "stdout"
        },
        {
          "output_type": "execute_result",
          "data": {
            "text/plain": [
              "<keras.callbacks.History at 0x7f6278ff3898>"
            ]
          },
          "metadata": {
            "tags": []
          },
          "execution_count": 26
        }
      ]
    },
    {
      "cell_type": "code",
      "metadata": {
        "id": "SoV4yE2vvVDP",
        "colab_type": "code",
        "outputId": "7df84bf3-5fc6-4ba5-b99a-855e05ed8333",
        "colab": {
          "base_uri": "https://localhost:8080/",
          "height": 72
        }
      },
      "source": [
        "score = model.evaluate(test['features'], to_categorical(test['labels']))\n",
        "print('Test loss:', score[0])\n",
        "print('Test accuracy:', score[1])"
      ],
      "execution_count": 0,
      "outputs": [
        {
          "output_type": "stream",
          "text": [
            "10000/10000 [==============================] - 2s 242us/step\n",
            "Test loss: 0.0653972102533246\n",
            "Test accuracy: 0.9905\n"
          ],
          "name": "stdout"
        }
      ]
    },
    {
      "cell_type": "code",
      "metadata": {
        "id": "vGa4pNVTxCiN",
        "colab_type": "code",
        "outputId": "22863be6-d6c9-471e-97fc-687e5fa12c3a",
        "colab": {
          "base_uri": "https://localhost:8080/",
          "height": 35
        }
      },
      "source": [
        "ngrok_url = !curl -s http://localhost:4040/api/tunnels | python -c \\\n",
        "    \"import sys, json; print(json.load(sys.stdin)['tunnels'][0]['public_url'])\"\n",
        "        \n",
        "ngrok_url = ngrok_url[0].replace(\"'\", '')\n",
        "print(ngrok_url)"
      ],
      "execution_count": 0,
      "outputs": [
        {
          "output_type": "stream",
          "text": [
            "http://09df9fea.ngrok.io\n"
          ],
          "name": "stdout"
        }
      ]
    },
    {
      "cell_type": "code",
      "metadata": {
        "id": "3l11eb4axQcF",
        "colab_type": "code",
        "colab": {}
      },
      "source": [
        "from IPython.display import IFrame\n",
        "\n",
        "IFrame(ngrok_url, width=700, height=900)"
      ],
      "execution_count": 0,
      "outputs": []
    },
    {
      "cell_type": "markdown",
      "metadata": {
        "id": "OlM67bOo_mn5",
        "colab_type": "text"
      },
      "source": [
        "Epoch = 100"
      ]
    },
    {
      "cell_type": "code",
      "metadata": {
        "id": "kX7xrLV8_qak",
        "colab_type": "code",
        "colab": {}
      },
      "source": [
        "EPOCHS = 100\n",
        "BATCH_SIZE = 128"
      ],
      "execution_count": 0,
      "outputs": []
    },
    {
      "cell_type": "code",
      "metadata": {
        "id": "5sqH7iQ9_0eM",
        "colab_type": "code",
        "colab": {}
      },
      "source": [
        "X_train, y_train = train['features'], to_categorical(train['labels'])\n",
        "X_validation, y_validation = validation['features'], to_categorical(validation['labels'])\n",
        "\n",
        "train_generator = ImageDataGenerator().flow(X_train, y_train, batch_size=BATCH_SIZE)\n",
        "validation_generator = ImageDataGenerator().flow(X_validation, y_validation, batch_size=BATCH_SIZE)"
      ],
      "execution_count": 0,
      "outputs": []
    },
    {
      "cell_type": "code",
      "metadata": {
        "id": "wy8cKHtL_4QW",
        "colab_type": "code",
        "outputId": "d0082a4a-e205-4f17-a5bb-e58e7de37a83",
        "colab": {
          "base_uri": "https://localhost:8080/",
          "height": 1000
        }
      },
      "source": [
        "print('# of training images:', train['features'].shape[0])\n",
        "print('# of validation images:', validation['features'].shape[0])\n",
        "\n",
        "steps_per_epoch = X_train.shape[0]//BATCH_SIZE\n",
        "validation_steps = X_validation.shape[0]//BATCH_SIZE\n",
        "\n",
        "tensorboard = TensorBoard(log_dir=\"logs/{}\".format(time()))\n",
        "model.fit_generator(train_generator, steps_per_epoch=steps_per_epoch, epochs=EPOCHS, \n",
        "                    validation_data=validation_generator, validation_steps=validation_steps, \n",
        "                    shuffle=True, callbacks=[tensorboard])"
      ],
      "execution_count": 0,
      "outputs": [
        {
          "output_type": "stream",
          "text": [
            "# of training images: 48000\n",
            "# of validation images: 12000\n",
            "Epoch 1/100\n",
            "375/375 [==============================] - 22s 58ms/step - loss: 0.0025 - acc: 0.9993 - val_loss: 0.1035 - val_acc: 0.9837\n",
            "Epoch 2/100\n",
            "375/375 [==============================] - 22s 58ms/step - loss: 0.0113 - acc: 0.9972 - val_loss: 0.0728 - val_acc: 0.9891\n",
            "Epoch 3/100\n",
            "375/375 [==============================] - 22s 58ms/step - loss: 0.0037 - acc: 0.9987 - val_loss: 0.0758 - val_acc: 0.9876\n",
            "Epoch 4/100\n",
            "375/375 [==============================] - 22s 57ms/step - loss: 0.0013 - acc: 0.9997 - val_loss: 0.0718 - val_acc: 0.9889\n",
            "Epoch 5/100\n",
            "375/375 [==============================] - 22s 58ms/step - loss: 0.0019 - acc: 0.9995 - val_loss: 0.0742 - val_acc: 0.9890\n",
            "Epoch 6/100\n",
            "375/375 [==============================] - 22s 58ms/step - loss: 0.0051 - acc: 0.9986 - val_loss: 0.0795 - val_acc: 0.9869\n",
            "Epoch 7/100\n",
            "375/375 [==============================] - 22s 57ms/step - loss: 0.0048 - acc: 0.9987 - val_loss: 0.0915 - val_acc: 0.9865\n",
            "Epoch 8/100\n",
            "375/375 [==============================] - 22s 58ms/step - loss: 0.0031 - acc: 0.9991 - val_loss: 0.0862 - val_acc: 0.9877\n",
            "Epoch 9/100\n",
            "375/375 [==============================] - 22s 58ms/step - loss: 0.0066 - acc: 0.9981 - val_loss: 0.0881 - val_acc: 0.9880\n",
            "Epoch 10/100\n",
            "375/375 [==============================] - 22s 58ms/step - loss: 0.0051 - acc: 0.9987 - val_loss: 0.0899 - val_acc: 0.9861\n",
            "Epoch 11/100\n",
            "375/375 [==============================] - 21s 57ms/step - loss: 0.0062 - acc: 0.9985 - val_loss: 0.0755 - val_acc: 0.9881\n",
            "Epoch 12/100\n",
            "375/375 [==============================] - 21s 57ms/step - loss: 0.0020 - acc: 0.9994 - val_loss: 0.0709 - val_acc: 0.9907\n",
            "Epoch 13/100\n",
            "375/375 [==============================] - 22s 59ms/step - loss: 0.0015 - acc: 0.9996 - val_loss: 0.0889 - val_acc: 0.9883\n",
            "Epoch 14/100\n",
            "375/375 [==============================] - 22s 58ms/step - loss: 8.6558e-04 - acc: 0.9998 - val_loss: 0.0818 - val_acc: 0.9904\n",
            "Epoch 15/100\n",
            "375/375 [==============================] - 22s 57ms/step - loss: 3.8698e-04 - acc: 1.0000 - val_loss: 0.0809 - val_acc: 0.9906\n",
            "Epoch 16/100\n",
            "375/375 [==============================] - 22s 58ms/step - loss: 3.7633e-04 - acc: 1.0000 - val_loss: 0.0777 - val_acc: 0.9903\n",
            "Epoch 17/100\n",
            "375/375 [==============================] - 22s 58ms/step - loss: 3.4980e-04 - acc: 1.0000 - val_loss: 0.0856 - val_acc: 0.9899\n",
            "Epoch 18/100\n",
            "375/375 [==============================] - 22s 57ms/step - loss: 3.3905e-04 - acc: 1.0000 - val_loss: 0.0749 - val_acc: 0.9910\n",
            "Epoch 19/100\n",
            "375/375 [==============================] - 22s 57ms/step - loss: 3.3834e-04 - acc: 1.0000 - val_loss: 0.0852 - val_acc: 0.9902\n",
            "Epoch 20/100\n",
            "375/375 [==============================] - 22s 58ms/step - loss: 3.3793e-04 - acc: 1.0000 - val_loss: 0.0802 - val_acc: 0.9906\n",
            "Epoch 21/100\n",
            "375/375 [==============================] - 22s 58ms/step - loss: 3.3762e-04 - acc: 1.0000 - val_loss: 0.0829 - val_acc: 0.9901\n",
            "Epoch 22/100\n",
            "375/375 [==============================] - 22s 58ms/step - loss: 3.3736e-04 - acc: 1.0000 - val_loss: 0.0776 - val_acc: 0.9911\n",
            "Epoch 23/100\n",
            "375/375 [==============================] - 22s 59ms/step - loss: 3.3716e-04 - acc: 1.0000 - val_loss: 0.0895 - val_acc: 0.9896\n",
            "Epoch 24/100\n",
            "375/375 [==============================] - 22s 58ms/step - loss: 3.3698e-04 - acc: 1.0000 - val_loss: 0.0770 - val_acc: 0.9907\n",
            "Epoch 25/100\n",
            "375/375 [==============================] - 22s 58ms/step - loss: 3.3683e-04 - acc: 1.0000 - val_loss: 0.0785 - val_acc: 0.9909\n",
            "Epoch 26/100\n",
            "375/375 [==============================] - 21s 57ms/step - loss: 3.3669e-04 - acc: 1.0000 - val_loss: 0.0766 - val_acc: 0.9912\n",
            "Epoch 27/100\n",
            "375/375 [==============================] - 22s 57ms/step - loss: 3.3658e-04 - acc: 1.0000 - val_loss: 0.0810 - val_acc: 0.9907\n",
            "Epoch 28/100\n",
            "375/375 [==============================] - 22s 58ms/step - loss: 3.3648e-04 - acc: 1.0000 - val_loss: 0.0848 - val_acc: 0.9911\n",
            "Epoch 29/100\n",
            "375/375 [==============================] - 22s 57ms/step - loss: 3.3639e-04 - acc: 1.0000 - val_loss: 0.0770 - val_acc: 0.9907\n",
            "Epoch 30/100\n",
            "375/375 [==============================] - 21s 57ms/step - loss: 3.3632e-04 - acc: 1.0000 - val_loss: 0.0950 - val_acc: 0.9900\n",
            "Epoch 31/100\n",
            "375/375 [==============================] - 21s 57ms/step - loss: 3.3625e-04 - acc: 1.0000 - val_loss: 0.0773 - val_acc: 0.9912\n",
            "Epoch 32/100\n",
            "375/375 [==============================] - 21s 57ms/step - loss: 3.3620e-04 - acc: 1.0000 - val_loss: 0.0733 - val_acc: 0.9916\n",
            "Epoch 33/100\n",
            "375/375 [==============================] - 22s 58ms/step - loss: 3.3615e-04 - acc: 1.0000 - val_loss: 0.0821 - val_acc: 0.9906\n",
            "Epoch 34/100\n",
            "375/375 [==============================] - 22s 58ms/step - loss: 3.3611e-04 - acc: 1.0000 - val_loss: 0.0917 - val_acc: 0.9907\n",
            "Epoch 35/100\n",
            "375/375 [==============================] - 22s 58ms/step - loss: 3.3608e-04 - acc: 1.0000 - val_loss: 0.0798 - val_acc: 0.9907\n",
            "Epoch 36/100\n",
            "375/375 [==============================] - 22s 58ms/step - loss: 3.3605e-04 - acc: 1.0000 - val_loss: 0.0908 - val_acc: 0.9905\n",
            "Epoch 37/100\n",
            "375/375 [==============================] - 22s 58ms/step - loss: 3.3603e-04 - acc: 1.0000 - val_loss: 0.0904 - val_acc: 0.9906\n",
            "Epoch 38/100\n",
            "375/375 [==============================] - 22s 59ms/step - loss: 3.3601e-04 - acc: 1.0000 - val_loss: 0.0806 - val_acc: 0.9912\n",
            "Epoch 39/100\n",
            "375/375 [==============================] - 22s 58ms/step - loss: 3.3599e-04 - acc: 1.0000 - val_loss: 0.0764 - val_acc: 0.9923\n",
            "Epoch 40/100\n",
            "375/375 [==============================] - 22s 57ms/step - loss: 3.3598e-04 - acc: 1.0000 - val_loss: 0.0866 - val_acc: 0.9911\n",
            "Epoch 41/100\n",
            "375/375 [==============================] - 22s 58ms/step - loss: 3.3597e-04 - acc: 1.0000 - val_loss: 0.0858 - val_acc: 0.9909\n",
            "Epoch 42/100\n",
            "375/375 [==============================] - 22s 57ms/step - loss: 3.3596e-04 - acc: 1.0000 - val_loss: 0.0817 - val_acc: 0.9916\n",
            "Epoch 43/100\n",
            "375/375 [==============================] - 22s 57ms/step - loss: 3.3595e-04 - acc: 1.0000 - val_loss: 0.0821 - val_acc: 0.9914\n",
            "Epoch 44/100\n",
            "375/375 [==============================] - 22s 58ms/step - loss: 3.3594e-04 - acc: 1.0000 - val_loss: 0.0892 - val_acc: 0.9915\n",
            "Epoch 45/100\n",
            "375/375 [==============================] - 22s 58ms/step - loss: 3.3594e-04 - acc: 1.0000 - val_loss: 0.0961 - val_acc: 0.9904\n",
            "Epoch 46/100\n",
            "375/375 [==============================] - 22s 57ms/step - loss: 3.3593e-04 - acc: 1.0000 - val_loss: 0.0817 - val_acc: 0.9922\n",
            "Epoch 47/100\n",
            "375/375 [==============================] - 22s 58ms/step - loss: 3.3593e-04 - acc: 1.0000 - val_loss: 0.0842 - val_acc: 0.9908\n",
            "Epoch 48/100\n",
            "375/375 [==============================] - 22s 58ms/step - loss: 3.3593e-04 - acc: 1.0000 - val_loss: 0.0977 - val_acc: 0.9907\n",
            "Epoch 49/100\n",
            "375/375 [==============================] - 22s 58ms/step - loss: 3.3592e-04 - acc: 1.0000 - val_loss: 0.0813 - val_acc: 0.9916\n",
            "Epoch 50/100\n",
            "375/375 [==============================] - 22s 58ms/step - loss: 3.3592e-04 - acc: 1.0000 - val_loss: 0.1000 - val_acc: 0.9907\n",
            "Epoch 51/100\n",
            "375/375 [==============================] - 22s 57ms/step - loss: 3.3592e-04 - acc: 1.0000 - val_loss: 0.0820 - val_acc: 0.9917\n",
            "Epoch 52/100\n",
            "375/375 [==============================] - 23s 60ms/step - loss: 3.3592e-04 - acc: 1.0000 - val_loss: 0.0792 - val_acc: 0.9925\n",
            "Epoch 53/100\n",
            "375/375 [==============================] - 22s 59ms/step - loss: 3.3592e-04 - acc: 1.0000 - val_loss: 0.0896 - val_acc: 0.9912\n",
            "Epoch 54/100\n",
            "375/375 [==============================] - 22s 58ms/step - loss: 3.3592e-04 - acc: 1.0000 - val_loss: 0.0919 - val_acc: 0.9907\n",
            "Epoch 55/100\n",
            "375/375 [==============================] - 22s 58ms/step - loss: 3.3592e-04 - acc: 1.0000 - val_loss: 0.0836 - val_acc: 0.9921\n",
            "Epoch 56/100\n",
            "375/375 [==============================] - 22s 60ms/step - loss: 3.3591e-04 - acc: 1.0000 - val_loss: 0.0993 - val_acc: 0.9906\n",
            "Epoch 57/100\n",
            "375/375 [==============================] - 22s 58ms/step - loss: 3.3591e-04 - acc: 1.0000 - val_loss: 0.0945 - val_acc: 0.9912\n",
            "Epoch 58/100\n",
            "375/375 [==============================] - 22s 58ms/step - loss: 3.3591e-04 - acc: 1.0000 - val_loss: 0.0840 - val_acc: 0.9917\n",
            "Epoch 59/100\n",
            "375/375 [==============================] - 22s 58ms/step - loss: 3.3591e-04 - acc: 1.0000 - val_loss: 0.0960 - val_acc: 0.9911\n",
            "Epoch 60/100\n",
            "375/375 [==============================] - 22s 58ms/step - loss: 3.3591e-04 - acc: 1.0000 - val_loss: 0.0876 - val_acc: 0.9916\n",
            "Epoch 61/100\n",
            "375/375 [==============================] - 22s 58ms/step - loss: 3.3591e-04 - acc: 1.0000 - val_loss: 0.0920 - val_acc: 0.9912\n",
            "Epoch 62/100\n",
            "375/375 [==============================] - 21s 57ms/step - loss: 3.3591e-04 - acc: 1.0000 - val_loss: 0.0943 - val_acc: 0.9912\n",
            "Epoch 63/100\n",
            "375/375 [==============================] - 22s 58ms/step - loss: 3.3591e-04 - acc: 1.0000 - val_loss: 0.0884 - val_acc: 0.9918\n",
            "Epoch 64/100\n",
            "375/375 [==============================] - 22s 58ms/step - loss: 3.3591e-04 - acc: 1.0000 - val_loss: 0.0898 - val_acc: 0.9912\n",
            "Epoch 65/100\n",
            "375/375 [==============================] - 22s 57ms/step - loss: 3.3591e-04 - acc: 1.0000 - val_loss: 0.0987 - val_acc: 0.9912\n",
            "Epoch 66/100\n",
            "375/375 [==============================] - 22s 58ms/step - loss: 3.3591e-04 - acc: 1.0000 - val_loss: 0.0946 - val_acc: 0.9911\n",
            "Epoch 67/100\n",
            "375/375 [==============================] - 22s 59ms/step - loss: 3.3591e-04 - acc: 1.0000 - val_loss: 0.0904 - val_acc: 0.9910\n",
            "Epoch 68/100\n",
            "375/375 [==============================] - 22s 58ms/step - loss: 3.3591e-04 - acc: 1.0000 - val_loss: 0.1006 - val_acc: 0.9907\n",
            "Epoch 69/100\n",
            "375/375 [==============================] - 22s 58ms/step - loss: 3.3591e-04 - acc: 1.0000 - val_loss: 0.0852 - val_acc: 0.9918\n",
            "Epoch 70/100\n",
            "375/375 [==============================] - 22s 58ms/step - loss: 3.3591e-04 - acc: 1.0000 - val_loss: 0.0932 - val_acc: 0.9912\n",
            "Epoch 71/100\n",
            "375/375 [==============================] - 22s 58ms/step - loss: 3.3591e-04 - acc: 1.0000 - val_loss: 0.1026 - val_acc: 0.9902\n",
            "Epoch 72/100\n",
            "375/375 [==============================] - 22s 58ms/step - loss: 3.3591e-04 - acc: 1.0000 - val_loss: 0.0898 - val_acc: 0.9916\n",
            "Epoch 73/100\n",
            "375/375 [==============================] - 22s 58ms/step - loss: 3.3591e-04 - acc: 1.0000 - val_loss: 0.0932 - val_acc: 0.9913\n",
            "Epoch 74/100\n",
            "375/375 [==============================] - 22s 58ms/step - loss: 3.3591e-04 - acc: 1.0000 - val_loss: 0.0956 - val_acc: 0.9912\n",
            "Epoch 75/100\n",
            "375/375 [==============================] - 22s 58ms/step - loss: 3.3591e-04 - acc: 1.0000 - val_loss: 0.0960 - val_acc: 0.9907\n",
            "Epoch 76/100\n",
            "375/375 [==============================] - 22s 58ms/step - loss: 3.3591e-04 - acc: 1.0000 - val_loss: 0.0874 - val_acc: 0.9917\n",
            "Epoch 77/100\n",
            "375/375 [==============================] - 22s 58ms/step - loss: 3.3591e-04 - acc: 1.0000 - val_loss: 0.0998 - val_acc: 0.9911\n",
            "Epoch 78/100\n",
            "375/375 [==============================] - 22s 58ms/step - loss: 3.3591e-04 - acc: 1.0000 - val_loss: 0.0897 - val_acc: 0.9913\n",
            "Epoch 79/100\n",
            "375/375 [==============================] - 22s 58ms/step - loss: 3.3591e-04 - acc: 1.0000 - val_loss: 0.0934 - val_acc: 0.9912\n",
            "Epoch 80/100\n",
            "375/375 [==============================] - 22s 58ms/step - loss: 3.3591e-04 - acc: 1.0000 - val_loss: 0.0950 - val_acc: 0.9912\n",
            "Epoch 81/100\n",
            "375/375 [==============================] - 22s 60ms/step - loss: 3.3591e-04 - acc: 1.0000 - val_loss: 0.0977 - val_acc: 0.9907\n",
            "Epoch 82/100\n",
            "375/375 [==============================] - 22s 58ms/step - loss: 3.3591e-04 - acc: 1.0000 - val_loss: 0.0974 - val_acc: 0.9912\n",
            "Epoch 83/100\n",
            "375/375 [==============================] - 22s 58ms/step - loss: 3.3591e-04 - acc: 1.0000 - val_loss: 0.0935 - val_acc: 0.9909\n",
            "Epoch 84/100\n",
            "375/375 [==============================] - 22s 57ms/step - loss: 3.3591e-04 - acc: 1.0000 - val_loss: 0.0907 - val_acc: 0.9916\n",
            "Epoch 85/100\n",
            "375/375 [==============================] - 22s 58ms/step - loss: 3.3591e-04 - acc: 1.0000 - val_loss: 0.0926 - val_acc: 0.9912\n",
            "Epoch 86/100\n",
            "375/375 [==============================] - 22s 58ms/step - loss: 3.3591e-04 - acc: 1.0000 - val_loss: 0.0916 - val_acc: 0.9912\n",
            "Epoch 87/100\n",
            "375/375 [==============================] - 22s 58ms/step - loss: 3.3591e-04 - acc: 1.0000 - val_loss: 0.0979 - val_acc: 0.9909\n",
            "Epoch 88/100\n",
            "375/375 [==============================] - 22s 58ms/step - loss: 3.3591e-04 - acc: 1.0000 - val_loss: 0.0918 - val_acc: 0.9911\n",
            "Epoch 89/100\n",
            "375/375 [==============================] - 22s 58ms/step - loss: 3.3591e-04 - acc: 1.0000 - val_loss: 0.0986 - val_acc: 0.9907\n",
            "Epoch 90/100\n",
            "375/375 [==============================] - 22s 58ms/step - loss: 3.3591e-04 - acc: 1.0000 - val_loss: 0.0942 - val_acc: 0.9909\n",
            "Epoch 91/100\n",
            "375/375 [==============================] - 22s 58ms/step - loss: 3.3591e-04 - acc: 1.0000 - val_loss: 0.0950 - val_acc: 0.9911\n",
            "Epoch 92/100\n",
            "375/375 [==============================] - 22s 58ms/step - loss: 3.3591e-04 - acc: 1.0000 - val_loss: 0.0949 - val_acc: 0.9909\n",
            "Epoch 93/100\n",
            "375/375 [==============================] - 22s 58ms/step - loss: 3.3591e-04 - acc: 1.0000 - val_loss: 0.0940 - val_acc: 0.9912\n",
            "Epoch 94/100\n",
            "375/375 [==============================] - 22s 58ms/step - loss: 3.3591e-04 - acc: 1.0000 - val_loss: 0.0942 - val_acc: 0.9910\n",
            "Epoch 95/100\n",
            "375/375 [==============================] - 22s 59ms/step - loss: 3.3591e-04 - acc: 1.0000 - val_loss: 0.0953 - val_acc: 0.9909\n",
            "Epoch 96/100\n",
            "375/375 [==============================] - 22s 58ms/step - loss: 3.3591e-04 - acc: 1.0000 - val_loss: 0.0955 - val_acc: 0.9909\n",
            "Epoch 97/100\n",
            "375/375 [==============================] - 22s 58ms/step - loss: 3.3591e-04 - acc: 1.0000 - val_loss: 0.0925 - val_acc: 0.9913\n",
            "Epoch 98/100\n",
            "375/375 [==============================] - 22s 58ms/step - loss: 3.3591e-04 - acc: 1.0000 - val_loss: 0.0926 - val_acc: 0.9911\n",
            "Epoch 99/100\n",
            "375/375 [==============================] - 22s 58ms/step - loss: 3.3591e-04 - acc: 1.0000 - val_loss: 0.0990 - val_acc: 0.9906\n",
            "Epoch 100/100\n",
            "375/375 [==============================] - 22s 58ms/step - loss: 3.3591e-04 - acc: 1.0000 - val_loss: 0.0902 - val_acc: 0.9912\n"
          ],
          "name": "stdout"
        },
        {
          "output_type": "execute_result",
          "data": {
            "text/plain": [
              "<keras.callbacks.History at 0x7f626d3fc240>"
            ]
          },
          "metadata": {
            "tags": []
          },
          "execution_count": 33
        }
      ]
    },
    {
      "cell_type": "code",
      "metadata": {
        "id": "ZZfdZO_KKA3X",
        "colab_type": "code",
        "outputId": "a98dcca8-4eef-462a-84fe-577d4e69927e",
        "colab": {
          "base_uri": "https://localhost:8080/",
          "height": 72
        }
      },
      "source": [
        "score = model.evaluate(test['features'], to_categorical(test['labels']))\n",
        "print('Test loss:', score[0])\n",
        "print('Test accuracy:', score[1])"
      ],
      "execution_count": 0,
      "outputs": [
        {
          "output_type": "stream",
          "text": [
            "10000/10000 [==============================] - 2s 243us/step\n",
            "Test loss: 0.08564416719894388\n",
            "Test accuracy: 0.9909\n"
          ],
          "name": "stdout"
        }
      ]
    }
  ]
}