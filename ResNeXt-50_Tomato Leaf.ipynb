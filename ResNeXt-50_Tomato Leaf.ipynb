{
  "nbformat": 4,
  "nbformat_minor": 0,
  "metadata": {
    "colab": {
      "name": "Untitled0.ipynb",
      "provenance": [],
      "authorship_tag": "ABX9TyNgRPW6dVyWntk1Catg+ht7",
      "include_colab_link": true
    },
    "kernelspec": {
      "name": "python3",
      "display_name": "Python 3"
    }
  },
  "cells": [
    {
      "cell_type": "markdown",
      "metadata": {
        "id": "view-in-github",
        "colab_type": "text"
      },
      "source": [
        "<a href=\"https://colab.research.google.com/github/Iksora03/Deep-Learning/blob/master/ResNeXt-50_Tomato%20Leaf.ipynb\" target=\"_parent\"><img src=\"https://colab.research.google.com/assets/colab-badge.svg\" alt=\"Open In Colab\"/></a>"
      ]
    },
    {
      "cell_type": "code",
      "metadata": {
        "id": "3IBA8A74orER",
        "colab_type": "code",
        "outputId": "5b258af1-192a-4f0a-c383-e8f9d1968ac1",
        "colab": {
          "base_uri": "https://localhost:8080/",
          "height": 1000
        }
      },
      "source": [
        "!pip install tensorflow==1.14.0\n",
        "!pip install git+https://github.com/keras-team/keras-applications/\n",
        "!pip install keras==2.2.4"
      ],
      "execution_count": 0,
      "outputs": [
        {
          "output_type": "stream",
          "text": [
            "Collecting tensorflow==1.14.0\n",
            "\u001b[?25l  Downloading https://files.pythonhosted.org/packages/de/f0/96fb2e0412ae9692dbf400e5b04432885f677ad6241c088ccc5fe7724d69/tensorflow-1.14.0-cp36-cp36m-manylinux1_x86_64.whl (109.2MB)\n",
            "\u001b[K     |████████████████████████████████| 109.2MB 30kB/s \n",
            "\u001b[?25hRequirement already satisfied: termcolor>=1.1.0 in /usr/local/lib/python3.6/dist-packages (from tensorflow==1.14.0) (1.1.0)\n",
            "Requirement already satisfied: protobuf>=3.6.1 in /usr/local/lib/python3.6/dist-packages (from tensorflow==1.14.0) (3.10.0)\n",
            "Requirement already satisfied: wrapt>=1.11.1 in /usr/local/lib/python3.6/dist-packages (from tensorflow==1.14.0) (1.12.1)\n",
            "Requirement already satisfied: keras-applications>=1.0.6 in /usr/local/lib/python3.6/dist-packages (from tensorflow==1.14.0) (1.0.8)\n",
            "Requirement already satisfied: six>=1.10.0 in /usr/local/lib/python3.6/dist-packages (from tensorflow==1.14.0) (1.12.0)\n",
            "Requirement already satisfied: google-pasta>=0.1.6 in /usr/local/lib/python3.6/dist-packages (from tensorflow==1.14.0) (0.2.0)\n",
            "Collecting tensorflow-estimator<1.15.0rc0,>=1.14.0rc0\n",
            "\u001b[?25l  Downloading https://files.pythonhosted.org/packages/3c/d5/21860a5b11caf0678fbc8319341b0ae21a07156911132e0e71bffed0510d/tensorflow_estimator-1.14.0-py2.py3-none-any.whl (488kB)\n",
            "\u001b[K     |████████████████████████████████| 491kB 54.0MB/s \n",
            "\u001b[?25hRequirement already satisfied: grpcio>=1.8.6 in /usr/local/lib/python3.6/dist-packages (from tensorflow==1.14.0) (1.29.0)\n",
            "Requirement already satisfied: absl-py>=0.7.0 in /usr/local/lib/python3.6/dist-packages (from tensorflow==1.14.0) (0.9.0)\n",
            "Requirement already satisfied: keras-preprocessing>=1.0.5 in /usr/local/lib/python3.6/dist-packages (from tensorflow==1.14.0) (1.1.2)\n",
            "Requirement already satisfied: gast>=0.2.0 in /usr/local/lib/python3.6/dist-packages (from tensorflow==1.14.0) (0.3.3)\n",
            "Requirement already satisfied: wheel>=0.26 in /usr/local/lib/python3.6/dist-packages (from tensorflow==1.14.0) (0.34.2)\n",
            "Collecting tensorboard<1.15.0,>=1.14.0\n",
            "\u001b[?25l  Downloading https://files.pythonhosted.org/packages/91/2d/2ed263449a078cd9c8a9ba50ebd50123adf1f8cfbea1492f9084169b89d9/tensorboard-1.14.0-py3-none-any.whl (3.1MB)\n",
            "\u001b[K     |████████████████████████████████| 3.2MB 70.8MB/s \n",
            "\u001b[?25hRequirement already satisfied: astor>=0.6.0 in /usr/local/lib/python3.6/dist-packages (from tensorflow==1.14.0) (0.8.1)\n",
            "Requirement already satisfied: numpy<2.0,>=1.14.5 in /usr/local/lib/python3.6/dist-packages (from tensorflow==1.14.0) (1.18.4)\n",
            "Requirement already satisfied: setuptools in /usr/local/lib/python3.6/dist-packages (from protobuf>=3.6.1->tensorflow==1.14.0) (46.3.0)\n",
            "Requirement already satisfied: h5py in /usr/local/lib/python3.6/dist-packages (from keras-applications>=1.0.6->tensorflow==1.14.0) (2.10.0)\n",
            "Requirement already satisfied: werkzeug>=0.11.15 in /usr/local/lib/python3.6/dist-packages (from tensorboard<1.15.0,>=1.14.0->tensorflow==1.14.0) (1.0.1)\n",
            "Requirement already satisfied: markdown>=2.6.8 in /usr/local/lib/python3.6/dist-packages (from tensorboard<1.15.0,>=1.14.0->tensorflow==1.14.0) (3.2.2)\n",
            "Requirement already satisfied: importlib-metadata; python_version < \"3.8\" in /usr/local/lib/python3.6/dist-packages (from markdown>=2.6.8->tensorboard<1.15.0,>=1.14.0->tensorflow==1.14.0) (1.6.0)\n",
            "Requirement already satisfied: zipp>=0.5 in /usr/local/lib/python3.6/dist-packages (from importlib-metadata; python_version < \"3.8\"->markdown>=2.6.8->tensorboard<1.15.0,>=1.14.0->tensorflow==1.14.0) (3.1.0)\n",
            "Installing collected packages: tensorflow-estimator, tensorboard, tensorflow\n",
            "  Found existing installation: tensorflow-estimator 2.2.0\n",
            "    Uninstalling tensorflow-estimator-2.2.0:\n",
            "      Successfully uninstalled tensorflow-estimator-2.2.0\n",
            "  Found existing installation: tensorboard 2.2.1\n",
            "    Uninstalling tensorboard-2.2.1:\n",
            "      Successfully uninstalled tensorboard-2.2.1\n",
            "  Found existing installation: tensorflow 2.2.0\n",
            "    Uninstalling tensorflow-2.2.0:\n",
            "      Successfully uninstalled tensorflow-2.2.0\n",
            "Successfully installed tensorboard-1.14.0 tensorflow-1.14.0 tensorflow-estimator-1.14.0\n",
            "Collecting git+https://github.com/keras-team/keras-applications/\n",
            "  Cloning https://github.com/keras-team/keras-applications/ to /tmp/pip-req-build-bu0nnoa5\n",
            "  Running command git clone -q https://github.com/keras-team/keras-applications/ /tmp/pip-req-build-bu0nnoa5\n",
            "Requirement already satisfied (use --upgrade to upgrade): Keras-Applications==1.0.8 from git+https://github.com/keras-team/keras-applications/ in /usr/local/lib/python3.6/dist-packages\n",
            "Requirement already satisfied: numpy>=1.9.1 in /usr/local/lib/python3.6/dist-packages (from Keras-Applications==1.0.8) (1.18.4)\n",
            "Requirement already satisfied: h5py in /usr/local/lib/python3.6/dist-packages (from Keras-Applications==1.0.8) (2.10.0)\n",
            "Requirement already satisfied: six in /usr/local/lib/python3.6/dist-packages (from h5py->Keras-Applications==1.0.8) (1.12.0)\n",
            "Building wheels for collected packages: Keras-Applications\n",
            "  Building wheel for Keras-Applications (setup.py) ... \u001b[?25l\u001b[?25hdone\n",
            "  Created wheel for Keras-Applications: filename=Keras_Applications-1.0.8-cp36-none-any.whl size=62000 sha256=57d3c599b59cfe30fe64ae320e9a5632098dfc9351ffc99bcaeb611e368d78bc\n",
            "  Stored in directory: /tmp/pip-ephem-wheel-cache-h3d3q2i9/wheels/69/6b/58/48debcc174f8de825851aaecb564bcfc11396b4c180f96e8a7\n",
            "Successfully built Keras-Applications\n",
            "Collecting keras==2.2.4\n",
            "\u001b[?25l  Downloading https://files.pythonhosted.org/packages/5e/10/aa32dad071ce52b5502266b5c659451cfd6ffcbf14e6c8c4f16c0ff5aaab/Keras-2.2.4-py2.py3-none-any.whl (312kB)\n",
            "\u001b[K     |████████████████████████████████| 317kB 3.3MB/s \n",
            "\u001b[?25hRequirement already satisfied: pyyaml in /usr/local/lib/python3.6/dist-packages (from keras==2.2.4) (3.13)\n",
            "Requirement already satisfied: six>=1.9.0 in /usr/local/lib/python3.6/dist-packages (from keras==2.2.4) (1.12.0)\n",
            "Requirement already satisfied: keras-preprocessing>=1.0.5 in /usr/local/lib/python3.6/dist-packages (from keras==2.2.4) (1.1.2)\n",
            "Requirement already satisfied: keras-applications>=1.0.6 in /usr/local/lib/python3.6/dist-packages (from keras==2.2.4) (1.0.8)\n",
            "Requirement already satisfied: numpy>=1.9.1 in /usr/local/lib/python3.6/dist-packages (from keras==2.2.4) (1.18.4)\n",
            "Requirement already satisfied: h5py in /usr/local/lib/python3.6/dist-packages (from keras==2.2.4) (2.10.0)\n",
            "Requirement already satisfied: scipy>=0.14 in /usr/local/lib/python3.6/dist-packages (from keras==2.2.4) (1.4.1)\n",
            "Installing collected packages: keras\n",
            "  Found existing installation: Keras 2.3.1\n",
            "    Uninstalling Keras-2.3.1:\n",
            "      Successfully uninstalled Keras-2.3.1\n",
            "Successfully installed keras-2.2.4\n"
          ],
          "name": "stdout"
        }
      ]
    },
    {
      "cell_type": "code",
      "metadata": {
        "id": "OrFlSYQmp_90",
        "colab_type": "code",
        "outputId": "3b048af2-b43c-4483-a3a6-5132209277f0",
        "colab": {
          "base_uri": "https://localhost:8080/",
          "height": 536
        }
      },
      "source": [
        "import tensorflow as tf; print(tf.__version__)\n",
        "import keras; print(keras.__version__)"
      ],
      "execution_count": 0,
      "outputs": [
        {
          "output_type": "stream",
          "text": [
            "/usr/local/lib/python3.6/dist-packages/tensorflow/python/framework/dtypes.py:516: FutureWarning: Passing (type, 1) or '1type' as a synonym of type is deprecated; in a future version of numpy, it will be understood as (type, (1,)) / '(1,)type'.\n",
            "  _np_qint8 = np.dtype([(\"qint8\", np.int8, 1)])\n",
            "/usr/local/lib/python3.6/dist-packages/tensorflow/python/framework/dtypes.py:517: FutureWarning: Passing (type, 1) or '1type' as a synonym of type is deprecated; in a future version of numpy, it will be understood as (type, (1,)) / '(1,)type'.\n",
            "  _np_quint8 = np.dtype([(\"quint8\", np.uint8, 1)])\n",
            "/usr/local/lib/python3.6/dist-packages/tensorflow/python/framework/dtypes.py:518: FutureWarning: Passing (type, 1) or '1type' as a synonym of type is deprecated; in a future version of numpy, it will be understood as (type, (1,)) / '(1,)type'.\n",
            "  _np_qint16 = np.dtype([(\"qint16\", np.int16, 1)])\n",
            "/usr/local/lib/python3.6/dist-packages/tensorflow/python/framework/dtypes.py:519: FutureWarning: Passing (type, 1) or '1type' as a synonym of type is deprecated; in a future version of numpy, it will be understood as (type, (1,)) / '(1,)type'.\n",
            "  _np_quint16 = np.dtype([(\"quint16\", np.uint16, 1)])\n",
            "/usr/local/lib/python3.6/dist-packages/tensorflow/python/framework/dtypes.py:520: FutureWarning: Passing (type, 1) or '1type' as a synonym of type is deprecated; in a future version of numpy, it will be understood as (type, (1,)) / '(1,)type'.\n",
            "  _np_qint32 = np.dtype([(\"qint32\", np.int32, 1)])\n",
            "/usr/local/lib/python3.6/dist-packages/tensorflow/python/framework/dtypes.py:525: FutureWarning: Passing (type, 1) or '1type' as a synonym of type is deprecated; in a future version of numpy, it will be understood as (type, (1,)) / '(1,)type'.\n",
            "  np_resource = np.dtype([(\"resource\", np.ubyte, 1)])\n"
          ],
          "name": "stderr"
        },
        {
          "output_type": "stream",
          "text": [
            "1.14.0\n",
            "2.2.4\n"
          ],
          "name": "stdout"
        },
        {
          "output_type": "stream",
          "text": [
            "/usr/local/lib/python3.6/dist-packages/tensorboard/compat/tensorflow_stub/dtypes.py:541: FutureWarning: Passing (type, 1) or '1type' as a synonym of type is deprecated; in a future version of numpy, it will be understood as (type, (1,)) / '(1,)type'.\n",
            "  _np_qint8 = np.dtype([(\"qint8\", np.int8, 1)])\n",
            "/usr/local/lib/python3.6/dist-packages/tensorboard/compat/tensorflow_stub/dtypes.py:542: FutureWarning: Passing (type, 1) or '1type' as a synonym of type is deprecated; in a future version of numpy, it will be understood as (type, (1,)) / '(1,)type'.\n",
            "  _np_quint8 = np.dtype([(\"quint8\", np.uint8, 1)])\n",
            "/usr/local/lib/python3.6/dist-packages/tensorboard/compat/tensorflow_stub/dtypes.py:543: FutureWarning: Passing (type, 1) or '1type' as a synonym of type is deprecated; in a future version of numpy, it will be understood as (type, (1,)) / '(1,)type'.\n",
            "  _np_qint16 = np.dtype([(\"qint16\", np.int16, 1)])\n",
            "/usr/local/lib/python3.6/dist-packages/tensorboard/compat/tensorflow_stub/dtypes.py:544: FutureWarning: Passing (type, 1) or '1type' as a synonym of type is deprecated; in a future version of numpy, it will be understood as (type, (1,)) / '(1,)type'.\n",
            "  _np_quint16 = np.dtype([(\"quint16\", np.uint16, 1)])\n",
            "/usr/local/lib/python3.6/dist-packages/tensorboard/compat/tensorflow_stub/dtypes.py:545: FutureWarning: Passing (type, 1) or '1type' as a synonym of type is deprecated; in a future version of numpy, it will be understood as (type, (1,)) / '(1,)type'.\n",
            "  _np_qint32 = np.dtype([(\"qint32\", np.int32, 1)])\n",
            "/usr/local/lib/python3.6/dist-packages/tensorboard/compat/tensorflow_stub/dtypes.py:550: FutureWarning: Passing (type, 1) or '1type' as a synonym of type is deprecated; in a future version of numpy, it will be understood as (type, (1,)) / '(1,)type'.\n",
            "  np_resource = np.dtype([(\"resource\", np.ubyte, 1)])\n",
            "Using TensorFlow backend.\n"
          ],
          "name": "stderr"
        }
      ]
    },
    {
      "cell_type": "code",
      "metadata": {
        "id": "e7gMPmDkv0GN",
        "colab_type": "code",
        "outputId": "7fe6014b-913f-4133-c3c3-c3401c80aa7b",
        "colab": {
          "base_uri": "https://localhost:8080/",
          "height": 129
        }
      },
      "source": [
        "from google.colab import drive\n",
        "drive.mount('/content/drive')"
      ],
      "execution_count": 0,
      "outputs": [
        {
          "output_type": "stream",
          "text": [
            "Go to this URL in a browser: https://accounts.google.com/o/oauth2/auth?client_id=947318989803-6bn6qk8qdgf4n4g3pfee6491hc0brc4i.apps.googleusercontent.com&redirect_uri=urn%3aietf%3awg%3aoauth%3a2.0%3aoob&response_type=code&scope=email%20https%3a%2f%2fwww.googleapis.com%2fauth%2fdocs.test%20https%3a%2f%2fwww.googleapis.com%2fauth%2fdrive%20https%3a%2f%2fwww.googleapis.com%2fauth%2fdrive.photos.readonly%20https%3a%2f%2fwww.googleapis.com%2fauth%2fpeopleapi.readonly\n",
            "\n",
            "Enter your authorization code:\n",
            "··········\n",
            "Mounted at /content/drive\n"
          ],
          "name": "stdout"
        }
      ]
    },
    {
      "cell_type": "code",
      "metadata": {
        "id": "-SGfIBnx6u6Y",
        "colab_type": "code",
        "colab": {}
      },
      "source": [
        "import numpy as np\n",
        "import pickle\n",
        "import cv2\n",
        "import keras\n",
        "from os import listdir\n",
        "from keras import backend as K\n",
        "from keras.layers import Input\n",
        "from keras.optimizers import Adam\n",
        "from keras.preprocessing.image import ImageDataGenerator\n",
        "from keras.preprocessing import image\n",
        "from keras.preprocessing.image import img_to_array\n",
        "from sklearn.preprocessing import MultiLabelBinarizer\n",
        "from sklearn.preprocessing import LabelBinarizer\n",
        "from sklearn.model_selection import train_test_split\n",
        "\n",
        "import matplotlib.pyplot as plt"
      ],
      "execution_count": 0,
      "outputs": []
    },
    {
      "cell_type": "code",
      "metadata": {
        "id": "bIpGlxFCwIYo",
        "colab_type": "code",
        "colab": {}
      },
      "source": [
        "EPOCHS = 50\n",
        "INIT_LR = 1e-3\n",
        "BS = 32\n",
        "default_image_size = tuple((224, 224))\n",
        "image_size = 0\n",
        "directory_root = \"/content/drive/My Drive/Tomato_Leaf/\"\n",
        "width=224\n",
        "height=224\n",
        "depth=3"
      ],
      "execution_count": 0,
      "outputs": []
    },
    {
      "cell_type": "code",
      "metadata": {
        "id": "rmVZJjPNwzOy",
        "colab_type": "code",
        "colab": {}
      },
      "source": [
        "def convert_image_to_array(image_dir):\n",
        "    try:\n",
        "        image = cv2.imread(image_dir)\n",
        "        if image is not None :\n",
        "            image = cv2.resize(image, default_image_size)   \n",
        "            return img_to_array(image)\n",
        "        else :\n",
        "            return np.array([])\n",
        "    except Exception as e:\n",
        "        print(f\"Error : {e}\")\n",
        "        return None"
      ],
      "execution_count": 0,
      "outputs": []
    },
    {
      "cell_type": "code",
      "metadata": {
        "id": "-D7BWrDHDZIR",
        "colab_type": "code",
        "colab": {}
      },
      "source": [
        "aug = ImageDataGenerator(\n",
        "    rotation_range=25, width_shift_range=0.1,\n",
        "    height_shift_range=0.1, shear_range=0.2, \n",
        "    zoom_range=0.2,horizontal_flip=True, \n",
        "    fill_mode=\"nearest\")"
      ],
      "execution_count": 0,
      "outputs": []
    },
    {
      "cell_type": "code",
      "metadata": {
        "id": "NfZ6wqbc5Qtb",
        "colab_type": "code",
        "outputId": "7fd20395-7bf6-4db4-a0e3-62eaadeee41e",
        "colab": {
          "base_uri": "https://localhost:8080/",
          "height": 202
        }
      },
      "source": [
        "image_list, label_list = [], []\n",
        "try:\n",
        "    print(\"[INFO] Loading images ...\")\n",
        "    root_dir = listdir(directory_root)\n",
        "    for directory in root_dir :\n",
        "        # remove .DS_Store from list\n",
        "        if directory == \".DS_Store\" :\n",
        "            root_dir.remove(directory)\n",
        "\n",
        "    for plant_folder in root_dir :\n",
        "        plant_disease_folder_list = listdir(f\"{directory_root}/{plant_folder}\")\n",
        "        \n",
        "        for disease_folder in plant_disease_folder_list :\n",
        "            # remove .DS_Store from list\n",
        "            if disease_folder == \".DS_Store\" :\n",
        "                plant_disease_folder_list.remove(disease_folder)\n",
        "\n",
        "        for plant_disease_folder in plant_disease_folder_list:\n",
        "            print(f\"[INFO] Processing {plant_disease_folder} ...\")\n",
        "            plant_disease_image_list = listdir(f\"{directory_root}/{plant_folder}/{plant_disease_folder}/\")\n",
        "                \n",
        "            for single_plant_disease_image in plant_disease_image_list :\n",
        "                if single_plant_disease_image == \".DS_Store\" :\n",
        "                    plant_disease_image_list.remove(single_plant_disease_image)\n",
        "\n",
        "            for image in plant_disease_image_list[:200]:\n",
        "                image_directory = f\"{directory_root}/{plant_folder}/{plant_disease_folder}/{image}\"\n",
        "                if image_directory.endswith(\".jpg\") == True or image_directory.endswith(\".JPG\") == True:\n",
        "                    image_list.append(convert_image_to_array(image_directory))\n",
        "                    label_list.append(plant_disease_folder)\n",
        "    %time print(\"[INFO] Image loading completed\")  \n",
        "except Exception as e:\n",
        "    print(f\"Error : {e}\")"
      ],
      "execution_count": 0,
      "outputs": [
        {
          "output_type": "stream",
          "text": [
            "[INFO] Loading images ...\n",
            "[INFO] Processing Tomato___Bacterial_spot ...\n",
            "[INFO] Processing Tomato___Early_blight ...\n",
            "[INFO] Processing Tomato___Late_blight ...\n",
            "[INFO] Processing Tomato___Leaf_Mold ...\n",
            "[INFO] Processing Tomato___Septoria_leaf_spot ...\n",
            "[INFO] Processing Tomato___Tomato_Yellow_Leaf_Curl_Virus ...\n",
            "[INFO] Image loading completed\n",
            "CPU times: user 114 µs, sys: 31 µs, total: 145 µs\n",
            "Wall time: 150 µs\n"
          ],
          "name": "stdout"
        }
      ]
    },
    {
      "cell_type": "code",
      "metadata": {
        "id": "c6xPzx3y5Qrr",
        "colab_type": "code",
        "outputId": "0e3f5bab-2640-47cf-e849-93f6697c020c",
        "colab": {
          "base_uri": "https://localhost:8080/",
          "height": 128
        }
      },
      "source": [
        "%%time\n",
        "image_size = len(image_list)\n",
        "label_binarizer = LabelBinarizer()\n",
        "image_labels = label_binarizer.fit_transform(label_list)\n",
        "n_classes = len(label_binarizer.classes_)\n",
        "np_image_list = np.array(image_list, dtype=np.float16) / 225.0\n",
        "x_train, x_test, y_train, y_test = train_test_split(np_image_list, image_labels, test_size=0.2, random_state = 42)\n",
        "print(image_size)\n",
        "print(label_binarizer.classes_)"
      ],
      "execution_count": 0,
      "outputs": [
        {
          "output_type": "stream",
          "text": [
            "1200\n",
            "['Tomato___Bacterial_spot' 'Tomato___Early_blight' 'Tomato___Late_blight'\n",
            " 'Tomato___Leaf_Mold' 'Tomato___Septoria_leaf_spot'\n",
            " 'Tomato___Tomato_Yellow_Leaf_Curl_Virus']\n",
            "CPU times: user 1.44 s, sys: 40.5 ms, total: 1.48 s\n",
            "Wall time: 1.48 s\n"
          ],
          "name": "stdout"
        }
      ]
    },
    {
      "cell_type": "code",
      "metadata": {
        "id": "OIRw7vM9w7Og",
        "colab_type": "code",
        "outputId": "de819bb5-c34e-4081-fe53-48f606644246",
        "colab": {
          "base_uri": "https://localhost:8080/",
          "height": 331
        }
      },
      "source": [
        "%%time\n",
        "from keras import models\n",
        "from keras import layers\n",
        "from keras_applications.resnext import ResNeXt50\n",
        "from keras import optimizers\n",
        "from keras.layers.core import Flatten, Dense, Dropout, Lambda\n",
        "\n",
        "conv_base = ResNeXt50(weights='imagenet',\n",
        "                  backend=keras.backend,\n",
        "                  layers=keras.layers,\n",
        "                  models=keras.models,\n",
        "                  include_top=False,\n",
        "                  utils=keras.utils,\n",
        "                  input_shape=((224, 224, 3))\n",
        "\n",
        "model = models.Sequential()\n",
        "model.add(conv_base)\n",
        "model.add(layers.Flatten())\n",
        "model.add(layers.Dense(256, activation=\"relu\"))\n",
        "model.add(layers.Dense(1, activation=\"sigmoid\"))\n",
        "model.compile(loss=\"binary_crossentropy\",\n",
        "              optimizer=optimizers.Adam(lr=INIT_LR, decay=INIT_LR / EPOCHS),\n",
        "              metrics=[\"acc\"])\n",
        "\n",
        "model.summary()\n"
      ],
      "execution_count": 0,
      "outputs": [
        {
          "output_type": "stream",
          "text": [
            "_________________________________________________________________\n",
            "Layer (type)                 Output Shape              Param #   \n",
            "=================================================================\n",
            "resnext50 (Model)            (None, 7, 7, 2048)        23048128  \n",
            "_________________________________________________________________\n",
            "flatten_2 (Flatten)          (None, 100352)            0         \n",
            "_________________________________________________________________\n",
            "dense_3 (Dense)              (None, 256)               25690368  \n",
            "_________________________________________________________________\n",
            "dense_4 (Dense)              (None, 1)                 257       \n",
            "=================================================================\n",
            "Total params: 48,738,753\n",
            "Trainable params: 48,670,529\n",
            "Non-trainable params: 68,224\n",
            "_________________________________________________________________\n",
            "CPU times: user 19.3 s, sys: 461 ms, total: 19.8 s\n",
            "Wall time: 19.6 s\n"
          ],
          "name": "stdout"
        }
      ]
    },
    {
      "cell_type": "code",
      "metadata": {
        "id": "Bpb411ZW5Qkx",
        "colab_type": "code",
        "outputId": "d60ec3aa-c339-4fd5-a1d0-d784444e926c",
        "colab": {
          "base_uri": "https://localhost:8080/",
          "height": 1000
        }
      },
      "source": [
        "%%time\n",
        "history = model.fit_generator(\n",
        "    aug.flow(x_train, y_train, batch_size=BS),\n",
        "    validation_data=(x_test, y_test),\n",
        "    steps_per_epoch=4,\n",
        "    epochs=EPOCHS, verbose=1)"
      ],
      "execution_count": 0,
      "outputs": [
        {
          "output_type": "stream",
          "text": [
            "Epoch 1/50\n",
            "4/4 [==============================] - 283s 71s/step - loss: 2.9263 - acc: 0.6871 - val_loss: 4.5642 - val_acc: 0.7153\n",
            "Epoch 2/50\n",
            "4/4 [==============================] - 273s 68s/step - loss: 4.4350 - acc: 0.7233 - val_loss: 4.5642 - val_acc: 0.7153\n",
            "Epoch 3/50\n",
            "4/4 [==============================] - 253s 63s/step - loss: 4.4196 - acc: 0.7243 - val_loss: 4.5642 - val_acc: 0.7153\n",
            "Epoch 4/50\n",
            "4/4 [==============================] - 282s 70s/step - loss: 4.5018 - acc: 0.7192 - val_loss: 4.5642 - val_acc: 0.7153\n",
            "Epoch 5/50\n",
            "4/4 [==============================] - 257s 64s/step - loss: 4.4249 - acc: 0.7240 - val_loss: 4.5642 - val_acc: 0.7153\n",
            "Epoch 6/50\n",
            "4/4 [==============================] - 282s 70s/step - loss: 4.5018 - acc: 0.7192 - val_loss: 4.5642 - val_acc: 0.7153\n",
            "Epoch 7/50\n",
            "4/4 [==============================] - 277s 69s/step - loss: 4.4217 - acc: 0.7242 - val_loss: 4.5642 - val_acc: 0.7153\n",
            "Epoch 8/50\n",
            "4/4 [==============================] - 252s 63s/step - loss: 4.3294 - acc: 0.7299 - val_loss: 4.5642 - val_acc: 0.7153\n",
            "Epoch 9/50\n",
            "4/4 [==============================] - 285s 71s/step - loss: 4.2881 - acc: 0.7325 - val_loss: 4.5642 - val_acc: 0.7153\n",
            "Epoch 10/50\n",
            "4/4 [==============================] - 264s 66s/step - loss: 4.6042 - acc: 0.7128 - val_loss: 4.5642 - val_acc: 0.7153\n",
            "Epoch 11/50\n",
            "4/4 [==============================] - 291s 73s/step - loss: 4.4083 - acc: 0.7250 - val_loss: 4.5642 - val_acc: 0.7153\n",
            "Epoch 12/50\n",
            "4/4 [==============================] - 289s 72s/step - loss: 4.4885 - acc: 0.7200 - val_loss: 4.5642 - val_acc: 0.7153\n",
            "Epoch 13/50\n",
            "4/4 [==============================] - 261s 65s/step - loss: 4.2890 - acc: 0.7324 - val_loss: 4.5642 - val_acc: 0.7153\n",
            "Epoch 14/50\n",
            "4/4 [==============================] - 288s 72s/step - loss: 4.4618 - acc: 0.7217 - val_loss: 4.5642 - val_acc: 0.7153\n",
            "Epoch 15/50\n",
            "4/4 [==============================] - 253s 63s/step - loss: 4.4445 - acc: 0.7227 - val_loss: 4.5642 - val_acc: 0.7153\n",
            "Epoch 16/50\n",
            "4/4 [==============================] - 282s 71s/step - loss: 4.4618 - acc: 0.7217 - val_loss: 4.5642 - val_acc: 0.7153\n",
            "Epoch 17/50\n",
            "4/4 [==============================] - 285s 71s/step - loss: 4.3682 - acc: 0.7275 - val_loss: 4.5642 - val_acc: 0.7153\n",
            "Epoch 18/50\n",
            "4/4 [==============================] - 257s 64s/step - loss: 4.4665 - acc: 0.7214 - val_loss: 4.5642 - val_acc: 0.7153\n",
            "Epoch 19/50\n",
            "4/4 [==============================] - 281s 70s/step - loss: 4.3682 - acc: 0.7275 - val_loss: 4.5642 - val_acc: 0.7153\n",
            "Epoch 20/50\n",
            "4/4 [==============================] - 253s 63s/step - loss: 4.4879 - acc: 0.7200 - val_loss: 4.5642 - val_acc: 0.7153\n",
            "Epoch 21/50\n",
            "4/4 [==============================] - 281s 70s/step - loss: 4.4217 - acc: 0.7242 - val_loss: 4.5642 - val_acc: 0.7153\n",
            "Epoch 22/50\n",
            "4/4 [==============================] - 287s 72s/step - loss: 4.3950 - acc: 0.7258 - val_loss: 4.5642 - val_acc: 0.7153\n",
            "Epoch 23/50\n",
            "4/4 [==============================] - 264s 66s/step - loss: 4.4333 - acc: 0.7234 - val_loss: 4.5642 - val_acc: 0.7153\n",
            "Epoch 24/50\n",
            "4/4 [==============================] - 289s 72s/step - loss: 4.2881 - acc: 0.7325 - val_loss: 4.5642 - val_acc: 0.7153\n",
            "Epoch 25/50\n",
            "4/4 [==============================] - 261s 65s/step - loss: 4.6452 - acc: 0.7102 - val_loss: 4.5642 - val_acc: 0.7153\n",
            "Epoch 26/50\n",
            "4/4 [==============================] - 286s 72s/step - loss: 4.3682 - acc: 0.7275 - val_loss: 4.5642 - val_acc: 0.7153\n",
            "Epoch 27/50\n",
            "4/4 [==============================] - 287s 72s/step - loss: 4.5152 - acc: 0.7183 - val_loss: 4.5642 - val_acc: 0.7153\n",
            "Epoch 28/50\n",
            "4/4 [==============================] - 262s 65s/step - loss: 4.3846 - acc: 0.7265 - val_loss: 4.5642 - val_acc: 0.7153\n",
            "Epoch 29/50\n",
            "4/4 [==============================] - 286s 72s/step - loss: 4.4751 - acc: 0.7208 - val_loss: 4.5642 - val_acc: 0.7153\n",
            "Epoch 30/50\n",
            "4/4 [==============================] - 262s 65s/step - loss: 4.3632 - acc: 0.7278 - val_loss: 4.5642 - val_acc: 0.7153\n",
            "Epoch 31/50\n",
            "4/4 [==============================] - 283s 71s/step - loss: 4.3682 - acc: 0.7275 - val_loss: 4.5642 - val_acc: 0.7153\n",
            "Epoch 32/50\n",
            "4/4 [==============================] - 278s 70s/step - loss: 4.5419 - acc: 0.7167 - val_loss: 4.5642 - val_acc: 0.7153\n",
            "Epoch 33/50\n",
            "4/4 [==============================] - 255s 64s/step - loss: 4.1916 - acc: 0.7385 - val_loss: 4.5642 - val_acc: 0.7153\n",
            "Epoch 34/50\n",
            "4/4 [==============================] - 273s 68s/step - loss: 4.5419 - acc: 0.7167 - val_loss: 4.5642 - val_acc: 0.7153\n",
            "Epoch 35/50\n",
            "4/4 [==============================] - 251s 63s/step - loss: 4.4463 - acc: 0.7226 - val_loss: 4.5642 - val_acc: 0.7153\n",
            "Epoch 36/50\n",
            "4/4 [==============================] - 293s 73s/step - loss: 4.4484 - acc: 0.7225 - val_loss: 4.5642 - val_acc: 0.7153\n",
            "Epoch 37/50\n",
            "4/4 [==============================] - 289s 72s/step - loss: 4.3950 - acc: 0.7258 - val_loss: 4.5642 - val_acc: 0.7153\n",
            "Epoch 38/50\n",
            "4/4 [==============================] - 263s 66s/step - loss: 4.5015 - acc: 0.7192 - val_loss: 4.5642 - val_acc: 0.7153\n",
            "Epoch 39/50\n",
            "4/4 [==============================] - 284s 71s/step - loss: 4.4751 - acc: 0.7208 - val_loss: 4.5642 - val_acc: 0.7153\n",
            "Epoch 40/50\n",
            "4/4 [==============================] - 257s 64s/step - loss: 4.3014 - acc: 0.7317 - val_loss: 4.5642 - val_acc: 0.7153\n",
            "Epoch 41/50\n",
            "4/4 [==============================] - 281s 70s/step - loss: 4.4751 - acc: 0.7208 - val_loss: 4.5642 - val_acc: 0.7153\n",
            "Epoch 42/50\n",
            "4/4 [==============================] - 279s 70s/step - loss: 4.2881 - acc: 0.7325 - val_loss: 4.5642 - val_acc: 0.7153\n",
            "Epoch 43/50\n",
            "4/4 [==============================] - 253s 63s/step - loss: 4.4546 - acc: 0.7221 - val_loss: 4.5642 - val_acc: 0.7153\n",
            "Epoch 44/50\n",
            "4/4 [==============================] - 282s 71s/step - loss: 4.5018 - acc: 0.7192 - val_loss: 4.5642 - val_acc: 0.7153\n",
            "Epoch 45/50\n",
            "4/4 [==============================] - 252s 63s/step - loss: 4.4528 - acc: 0.7222 - val_loss: 4.5642 - val_acc: 0.7153\n",
            "Epoch 46/50\n",
            "4/4 [==============================] - 274s 68s/step - loss: 4.2747 - acc: 0.7333 - val_loss: 4.5642 - val_acc: 0.7153\n",
            "Epoch 47/50\n",
            "4/4 [==============================] - 273s 68s/step - loss: 4.5152 - acc: 0.7183 - val_loss: 4.5642 - val_acc: 0.7153\n",
            "Epoch 48/50\n",
            "4/4 [==============================] - 249s 62s/step - loss: 4.5686 - acc: 0.7150 - val_loss: 4.5642 - val_acc: 0.7153\n",
            "Epoch 49/50\n",
            "4/4 [==============================] - 280s 70s/step - loss: 4.4217 - acc: 0.7242 - val_loss: 4.5642 - val_acc: 0.7153\n",
            "Epoch 50/50\n",
            "4/4 [==============================] - 266s 67s/step - loss: 4.3365 - acc: 0.7295 - val_loss: 4.5642 - val_acc: 0.7153\n",
            "CPU times: user 13h 47min 57s, sys: 14min 36s, total: 14h 2min 34s\n",
            "Wall time: 3h 47min 17s\n"
          ],
          "name": "stdout"
        }
      ]
    },
    {
      "cell_type": "code",
      "metadata": {
        "id": "N-3wAEWsiQ9O",
        "colab_type": "code",
        "outputId": "7ffaba19-8989-461f-fe9c-cdd4900c4041",
        "colab": {
          "base_uri": "https://localhost:8080/",
          "height": 545
        }
      },
      "source": [
        "acc = history.history['acc']\n",
        "val_acc = history.history['val_acc']\n",
        "loss = history.history['loss']\n",
        "val_loss = history.history['val_loss']\n",
        "epochs = range(1, len(acc) + 1)\n",
        "#Train and validation accuracy\n",
        "plt.plot(epochs, acc, 'b', label='Training accurarcy')\n",
        "plt.plot(epochs, val_acc, 'r', label='Validation accurarcy')\n",
        "plt.title('Training and Validation accurarcy')\n",
        "plt.legend()\n",
        "\n",
        "plt.figure()\n",
        "#Train and validation loss\n",
        "plt.plot(epochs, loss, 'b', label='Training loss')\n",
        "plt.plot(epochs, val_loss, 'r', label='Validation loss')\n",
        "plt.title('Training and Validation loss')\n",
        "plt.legend()\n",
        "plt.show()"
      ],
      "execution_count": 0,
      "outputs": [
        {
          "output_type": "display_data",
          "data": {
            "image/png": "[encoded data removed]",
            "text/plain": [
              "<Figure size 432x288 with 1 Axes>"
            ]
          },
          "metadata": {
            "tags": [],
            "needs_background": "light"
          }
        },
        {
          "output_type": "display_data",
          "data": {
            "image/png": "[encoded data removed]",
            "text/plain": [
              "<Figure size 432x288 with 1 Axes>"
            ]
          },
          "metadata": {
            "tags": [],
            "needs_background": "light"
          }
        }
      ]
    }
  ]
}