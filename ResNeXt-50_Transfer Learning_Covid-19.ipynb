{
  "nbformat": 4,
  "nbformat_minor": 0,
  "metadata": {
    "colab": {
      "name": "Untitled0.ipynb",
      "provenance": [],
      "authorship_tag": "ABX9TyPi4EHe3p2i7DElBV7p+VGS",
      "include_colab_link": true
    },
    "kernelspec": {
      "name": "python3",
      "display_name": "Python 3"
    }
  },
  "cells": [
    {
      "cell_type": "markdown",
      "metadata": {
        "id": "view-in-github",
        "colab_type": "text"
      },
      "source": [
        "<a href=\"https://colab.research.google.com/github/Iksora03/Deep-Learning/blob/master/ResNeXt-50_Transfer%20Learning_Covid-19.ipynb\" target=\"_parent\"><img src=\"https://colab.research.google.com/assets/colab-badge.svg\" alt=\"Open In Colab\"/></a>"
      ]
    },
    {
      "cell_type": "code",
      "metadata": {
        "id": "3IBA8A74orER",
        "colab_type": "code",
        "outputId": "5b258af1-192a-4f0a-c383-e8f9d1968ac1",
        "colab": {
          "base_uri": "https://localhost:8080/",
          "height": 1000
        }
      },
      "source": [
        "!pip install tensorflow==1.14.0\n",
        "!pip install git+https://github.com/keras-team/keras-applications/\n",
        "!pip install keras==2.2.4"
      ],
      "execution_count": 0,
      "outputs": [
        {
          "output_type": "stream",
          "text": [
            "Collecting tensorflow==1.14.0\n",
            "\u001b[?25l  Downloading https://files.pythonhosted.org/packages/de/f0/96fb2e0412ae9692dbf400e5b04432885f677ad6241c088ccc5fe7724d69/tensorflow-1.14.0-cp36-cp36m-manylinux1_x86_64.whl (109.2MB)\n",
            "\u001b[K     |████████████████████████████████| 109.2MB 30kB/s \n",
            "\u001b[?25hRequirement already satisfied: termcolor>=1.1.0 in /usr/local/lib/python3.6/dist-packages (from tensorflow==1.14.0) (1.1.0)\n",
            "Requirement already satisfied: protobuf>=3.6.1 in /usr/local/lib/python3.6/dist-packages (from tensorflow==1.14.0) (3.10.0)\n",
            "Requirement already satisfied: wrapt>=1.11.1 in /usr/local/lib/python3.6/dist-packages (from tensorflow==1.14.0) (1.12.1)\n",
            "Requirement already satisfied: keras-applications>=1.0.6 in /usr/local/lib/python3.6/dist-packages (from tensorflow==1.14.0) (1.0.8)\n",
            "Requirement already satisfied: six>=1.10.0 in /usr/local/lib/python3.6/dist-packages (from tensorflow==1.14.0) (1.12.0)\n",
            "Requirement already satisfied: google-pasta>=0.1.6 in /usr/local/lib/python3.6/dist-packages (from tensorflow==1.14.0) (0.2.0)\n",
            "Collecting tensorflow-estimator<1.15.0rc0,>=1.14.0rc0\n",
            "\u001b[?25l  Downloading https://files.pythonhosted.org/packages/3c/d5/21860a5b11caf0678fbc8319341b0ae21a07156911132e0e71bffed0510d/tensorflow_estimator-1.14.0-py2.py3-none-any.whl (488kB)\n",
            "\u001b[K     |████████████████████████████████| 491kB 54.0MB/s \n",
            "\u001b[?25hRequirement already satisfied: grpcio>=1.8.6 in /usr/local/lib/python3.6/dist-packages (from tensorflow==1.14.0) (1.29.0)\n",
            "Requirement already satisfied: absl-py>=0.7.0 in /usr/local/lib/python3.6/dist-packages (from tensorflow==1.14.0) (0.9.0)\n",
            "Requirement already satisfied: keras-preprocessing>=1.0.5 in /usr/local/lib/python3.6/dist-packages (from tensorflow==1.14.0) (1.1.2)\n",
            "Requirement already satisfied: gast>=0.2.0 in /usr/local/lib/python3.6/dist-packages (from tensorflow==1.14.0) (0.3.3)\n",
            "Requirement already satisfied: wheel>=0.26 in /usr/local/lib/python3.6/dist-packages (from tensorflow==1.14.0) (0.34.2)\n",
            "Collecting tensorboard<1.15.0,>=1.14.0\n",
            "\u001b[?25l  Downloading https://files.pythonhosted.org/packages/91/2d/2ed263449a078cd9c8a9ba50ebd50123adf1f8cfbea1492f9084169b89d9/tensorboard-1.14.0-py3-none-any.whl (3.1MB)\n",
            "\u001b[K     |████████████████████████████████| 3.2MB 70.8MB/s \n",
            "\u001b[?25hRequirement already satisfied: astor>=0.6.0 in /usr/local/lib/python3.6/dist-packages (from tensorflow==1.14.0) (0.8.1)\n",
            "Requirement already satisfied: numpy<2.0,>=1.14.5 in /usr/local/lib/python3.6/dist-packages (from tensorflow==1.14.0) (1.18.4)\n",
            "Requirement already satisfied: setuptools in /usr/local/lib/python3.6/dist-packages (from protobuf>=3.6.1->tensorflow==1.14.0) (46.3.0)\n",
            "Requirement already satisfied: h5py in /usr/local/lib/python3.6/dist-packages (from keras-applications>=1.0.6->tensorflow==1.14.0) (2.10.0)\n",
            "Requirement already satisfied: werkzeug>=0.11.15 in /usr/local/lib/python3.6/dist-packages (from tensorboard<1.15.0,>=1.14.0->tensorflow==1.14.0) (1.0.1)\n",
            "Requirement already satisfied: markdown>=2.6.8 in /usr/local/lib/python3.6/dist-packages (from tensorboard<1.15.0,>=1.14.0->tensorflow==1.14.0) (3.2.2)\n",
            "Requirement already satisfied: importlib-metadata; python_version < \"3.8\" in /usr/local/lib/python3.6/dist-packages (from markdown>=2.6.8->tensorboard<1.15.0,>=1.14.0->tensorflow==1.14.0) (1.6.0)\n",
            "Requirement already satisfied: zipp>=0.5 in /usr/local/lib/python3.6/dist-packages (from importlib-metadata; python_version < \"3.8\"->markdown>=2.6.8->tensorboard<1.15.0,>=1.14.0->tensorflow==1.14.0) (3.1.0)\n",
            "Installing collected packages: tensorflow-estimator, tensorboard, tensorflow\n",
            "  Found existing installation: tensorflow-estimator 2.2.0\n",
            "    Uninstalling tensorflow-estimator-2.2.0:\n",
            "      Successfully uninstalled tensorflow-estimator-2.2.0\n",
            "  Found existing installation: tensorboard 2.2.1\n",
            "    Uninstalling tensorboard-2.2.1:\n",
            "      Successfully uninstalled tensorboard-2.2.1\n",
            "  Found existing installation: tensorflow 2.2.0\n",
            "    Uninstalling tensorflow-2.2.0:\n",
            "      Successfully uninstalled tensorflow-2.2.0\n",
            "Successfully installed tensorboard-1.14.0 tensorflow-1.14.0 tensorflow-estimator-1.14.0\n",
            "Collecting git+https://github.com/keras-team/keras-applications/\n",
            "  Cloning https://github.com/keras-team/keras-applications/ to /tmp/pip-req-build-bu0nnoa5\n",
            "  Running command git clone -q https://github.com/keras-team/keras-applications/ /tmp/pip-req-build-bu0nnoa5\n",
            "Requirement already satisfied (use --upgrade to upgrade): Keras-Applications==1.0.8 from git+https://github.com/keras-team/keras-applications/ in /usr/local/lib/python3.6/dist-packages\n",
            "Requirement already satisfied: numpy>=1.9.1 in /usr/local/lib/python3.6/dist-packages (from Keras-Applications==1.0.8) (1.18.4)\n",
            "Requirement already satisfied: h5py in /usr/local/lib/python3.6/dist-packages (from Keras-Applications==1.0.8) (2.10.0)\n",
            "Requirement already satisfied: six in /usr/local/lib/python3.6/dist-packages (from h5py->Keras-Applications==1.0.8) (1.12.0)\n",
            "Building wheels for collected packages: Keras-Applications\n",
            "  Building wheel for Keras-Applications (setup.py) ... \u001b[?25l\u001b[?25hdone\n",
            "  Created wheel for Keras-Applications: filename=Keras_Applications-1.0.8-cp36-none-any.whl size=62000 sha256=57d3c599b59cfe30fe64ae320e9a5632098dfc9351ffc99bcaeb611e368d78bc\n",
            "  Stored in directory: /tmp/pip-ephem-wheel-cache-h3d3q2i9/wheels/69/6b/58/48debcc174f8de825851aaecb564bcfc11396b4c180f96e8a7\n",
            "Successfully built Keras-Applications\n",
            "Collecting keras==2.2.4\n",
            "\u001b[?25l  Downloading https://files.pythonhosted.org/packages/5e/10/aa32dad071ce52b5502266b5c659451cfd6ffcbf14e6c8c4f16c0ff5aaab/Keras-2.2.4-py2.py3-none-any.whl (312kB)\n",
            "\u001b[K     |████████████████████████████████| 317kB 3.3MB/s \n",
            "\u001b[?25hRequirement already satisfied: pyyaml in /usr/local/lib/python3.6/dist-packages (from keras==2.2.4) (3.13)\n",
            "Requirement already satisfied: six>=1.9.0 in /usr/local/lib/python3.6/dist-packages (from keras==2.2.4) (1.12.0)\n",
            "Requirement already satisfied: keras-preprocessing>=1.0.5 in /usr/local/lib/python3.6/dist-packages (from keras==2.2.4) (1.1.2)\n",
            "Requirement already satisfied: keras-applications>=1.0.6 in /usr/local/lib/python3.6/dist-packages (from keras==2.2.4) (1.0.8)\n",
            "Requirement already satisfied: numpy>=1.9.1 in /usr/local/lib/python3.6/dist-packages (from keras==2.2.4) (1.18.4)\n",
            "Requirement already satisfied: h5py in /usr/local/lib/python3.6/dist-packages (from keras==2.2.4) (2.10.0)\n",
            "Requirement already satisfied: scipy>=0.14 in /usr/local/lib/python3.6/dist-packages (from keras==2.2.4) (1.4.1)\n",
            "Installing collected packages: keras\n",
            "  Found existing installation: Keras 2.3.1\n",
            "    Uninstalling Keras-2.3.1:\n",
            "      Successfully uninstalled Keras-2.3.1\n",
            "Successfully installed keras-2.2.4\n"
          ],
          "name": "stdout"
        }
      ]
    },
    {
      "cell_type": "code",
      "metadata": {
        "id": "OrFlSYQmp_90",
        "colab_type": "code",
        "outputId": "3b048af2-b43c-4483-a3a6-5132209277f0",
        "colab": {
          "base_uri": "https://localhost:8080/",
          "height": 536
        }
      },
      "source": [
        "import tensorflow as tf; print(tf.__version__)\n",
        "import keras; print(keras.__version__)"
      ],
      "execution_count": 0,
      "outputs": [
        {
          "output_type": "stream",
          "text": [
            "/usr/local/lib/python3.6/dist-packages/tensorflow/python/framework/dtypes.py:516: FutureWarning: Passing (type, 1) or '1type' as a synonym of type is deprecated; in a future version of numpy, it will be understood as (type, (1,)) / '(1,)type'.\n",
            "  _np_qint8 = np.dtype([(\"qint8\", np.int8, 1)])\n",
            "/usr/local/lib/python3.6/dist-packages/tensorflow/python/framework/dtypes.py:517: FutureWarning: Passing (type, 1) or '1type' as a synonym of type is deprecated; in a future version of numpy, it will be understood as (type, (1,)) / '(1,)type'.\n",
            "  _np_quint8 = np.dtype([(\"quint8\", np.uint8, 1)])\n",
            "/usr/local/lib/python3.6/dist-packages/tensorflow/python/framework/dtypes.py:518: FutureWarning: Passing (type, 1) or '1type' as a synonym of type is deprecated; in a future version of numpy, it will be understood as (type, (1,)) / '(1,)type'.\n",
            "  _np_qint16 = np.dtype([(\"qint16\", np.int16, 1)])\n",
            "/usr/local/lib/python3.6/dist-packages/tensorflow/python/framework/dtypes.py:519: FutureWarning: Passing (type, 1) or '1type' as a synonym of type is deprecated; in a future version of numpy, it will be understood as (type, (1,)) / '(1,)type'.\n",
            "  _np_quint16 = np.dtype([(\"quint16\", np.uint16, 1)])\n",
            "/usr/local/lib/python3.6/dist-packages/tensorflow/python/framework/dtypes.py:520: FutureWarning: Passing (type, 1) or '1type' as a synonym of type is deprecated; in a future version of numpy, it will be understood as (type, (1,)) / '(1,)type'.\n",
            "  _np_qint32 = np.dtype([(\"qint32\", np.int32, 1)])\n",
            "/usr/local/lib/python3.6/dist-packages/tensorflow/python/framework/dtypes.py:525: FutureWarning: Passing (type, 1) or '1type' as a synonym of type is deprecated; in a future version of numpy, it will be understood as (type, (1,)) / '(1,)type'.\n",
            "  np_resource = np.dtype([(\"resource\", np.ubyte, 1)])\n"
          ],
          "name": "stderr"
        },
        {
          "output_type": "stream",
          "text": [
            "1.14.0\n",
            "2.2.4\n"
          ],
          "name": "stdout"
        },
        {
          "output_type": "stream",
          "text": [
            "/usr/local/lib/python3.6/dist-packages/tensorboard/compat/tensorflow_stub/dtypes.py:541: FutureWarning: Passing (type, 1) or '1type' as a synonym of type is deprecated; in a future version of numpy, it will be understood as (type, (1,)) / '(1,)type'.\n",
            "  _np_qint8 = np.dtype([(\"qint8\", np.int8, 1)])\n",
            "/usr/local/lib/python3.6/dist-packages/tensorboard/compat/tensorflow_stub/dtypes.py:542: FutureWarning: Passing (type, 1) or '1type' as a synonym of type is deprecated; in a future version of numpy, it will be understood as (type, (1,)) / '(1,)type'.\n",
            "  _np_quint8 = np.dtype([(\"quint8\", np.uint8, 1)])\n",
            "/usr/local/lib/python3.6/dist-packages/tensorboard/compat/tensorflow_stub/dtypes.py:543: FutureWarning: Passing (type, 1) or '1type' as a synonym of type is deprecated; in a future version of numpy, it will be understood as (type, (1,)) / '(1,)type'.\n",
            "  _np_qint16 = np.dtype([(\"qint16\", np.int16, 1)])\n",
            "/usr/local/lib/python3.6/dist-packages/tensorboard/compat/tensorflow_stub/dtypes.py:544: FutureWarning: Passing (type, 1) or '1type' as a synonym of type is deprecated; in a future version of numpy, it will be understood as (type, (1,)) / '(1,)type'.\n",
            "  _np_quint16 = np.dtype([(\"quint16\", np.uint16, 1)])\n",
            "/usr/local/lib/python3.6/dist-packages/tensorboard/compat/tensorflow_stub/dtypes.py:545: FutureWarning: Passing (type, 1) or '1type' as a synonym of type is deprecated; in a future version of numpy, it will be understood as (type, (1,)) / '(1,)type'.\n",
            "  _np_qint32 = np.dtype([(\"qint32\", np.int32, 1)])\n",
            "/usr/local/lib/python3.6/dist-packages/tensorboard/compat/tensorflow_stub/dtypes.py:550: FutureWarning: Passing (type, 1) or '1type' as a synonym of type is deprecated; in a future version of numpy, it will be understood as (type, (1,)) / '(1,)type'.\n",
            "  np_resource = np.dtype([(\"resource\", np.ubyte, 1)])\n",
            "Using TensorFlow backend.\n"
          ],
          "name": "stderr"
        }
      ]
    },
    {
      "cell_type": "code",
      "metadata": {
        "id": "hvo4RWsS9L02",
        "colab_type": "code",
        "outputId": "094ac0ae-7499-4946-f7ea-c5f5cabfc589",
        "colab": {
          "base_uri": "https://localhost:8080/",
          "height": 128
        }
      },
      "source": [
        "!gdown https://drive.google.com/uc?id=1coM7x3378f-Ou2l6Pg2wldaOI7Dntu1a\n",
        "!unzip Covid_Data_GradientCrescent.zip"
      ],
      "execution_count": 0,
      "outputs": [
        {
          "output_type": "stream",
          "text": [
            "Downloading...\n",
            "From: https://drive.google.com/uc?id=1coM7x3378f-Ou2l6Pg2wldaOI7Dntu1a\n",
            "To: /content/Covid_Data_GradientCrescent.zip\n",
            "\r0.00B [00:00, ?B/s]\r14.7MB [00:00, 145MB/s]\r53.5MB [00:00, 178MB/s]\r78.6MB [00:00, 195MB/s]\r110MB [00:00, 135MB/s] \r142MB [00:00, 163MB/s]\r154MB [00:00, 169MB/s]\n",
            "Archive:  Covid_Data_GradientCrescent.zip\n",
            "replace all/test/covid/nejmoa2001191_f3-PA.jpeg? [y]es, [n]o, [A]ll, [N]one, [r]ename: N\n"
          ],
          "name": "stdout"
        }
      ]
    },
    {
      "cell_type": "code",
      "metadata": {
        "id": "B4g053239UYh",
        "colab_type": "code",
        "colab": {}
      },
      "source": [
        "import numpy as np\n",
        "import tensorflow as tf\n",
        "DATASET_PATH = \"/content/two/train\"\n",
        "test_dir = \"/content/two/test\"\n",
        "IMAGE_SIZE = (150, 150)\n",
        "NUM_CLASSES = len(\"79\")\n",
        "BATCH_SIZE = 10 # try reducing batch size or freeze more layers if your GPU runs out of memory\n",
        "NUM_EPOCHS = 50\n",
        "LEARNING_RATE =0.0005 "
      ],
      "execution_count": 0,
      "outputs": []
    },
    {
      "cell_type": "code",
      "metadata": {
        "colab_type": "code",
        "outputId": "ede98fc6-9712-43d9-d3f9-57ea8803df5f",
        "id": "LAaRtorIFFJk",
        "colab": {
          "base_uri": "https://localhost:8080/",
          "height": 111
        }
      },
      "source": [
        "from keras.preprocessing.image import ImageDataGenerator\n",
        "\n",
        "train_datagen = ImageDataGenerator(rescale=1./255,\n",
        " rotation_range=50,\n",
        " featurewise_center = True,\n",
        " featurewise_std_normalization = True,\n",
        " width_shift_range=0.2,\n",
        " height_shift_range=0.2,\n",
        " shear_range=0.25,\n",
        " zoom_range=0.1,\n",
        " zca_whitening = True,\n",
        " channel_shift_range = 20,\n",
        " horizontal_flip = True ,\n",
        " vertical_flip = True ,\n",
        " validation_split = 0.2,\n",
        " fill_mode=\"constant\")\n",
        "\n",
        "train_batches = train_datagen.flow_from_directory(DATASET_PATH,\n",
        " target_size=IMAGE_SIZE,\n",
        " shuffle=True,\n",
        " batch_size=BATCH_SIZE,\n",
        " subset = \"training\",\n",
        " seed=42,\n",
        " class_mode=\"binary\",)\n",
        "\n",
        "valid_batches = train_datagen.flow_from_directory(test_dir,\n",
        " target_size=IMAGE_SIZE,\n",
        " shuffle=True,\n",
        " batch_size=BATCH_SIZE,\n",
        " subset = \"validation\",\n",
        " seed=42,\n",
        " class_mode=\"binary\",\n",
        " \n",
        " \n",
        " )"
      ],
      "execution_count": 0,
      "outputs": [
        {
          "output_type": "stream",
          "text": [
            "/usr/local/lib/python3.6/dist-packages/keras_preprocessing/image/image_data_generator.py:341: UserWarning: This ImageDataGenerator specifies `zca_whitening` which overrides setting of`featurewise_std_normalization`.\n",
            "  warnings.warn('This ImageDataGenerator specifies '\n"
          ],
          "name": "stderr"
        },
        {
          "output_type": "stream",
          "text": [
            "Found 104 images belonging to 2 classes.\n",
            "Found 2 images belonging to 2 classes.\n"
          ],
          "name": "stdout"
        }
      ]
    },
    {
      "cell_type": "code",
      "metadata": {
        "id": "RNFwGYsA_ean",
        "colab_type": "code",
        "colab": {}
      },
      "source": [
        "from keras.applications.mobilenet import preprocess_input\n",
        "from keras.preprocessing.image import ImageDataGenerator"
      ],
      "execution_count": 0,
      "outputs": []
    },
    {
      "cell_type": "code",
      "metadata": {
        "id": "6pSDVUVD5GwF",
        "colab_type": "code",
        "outputId": "424b2223-f173-4883-d8ca-174fd6c9ed43",
        "colab": {
          "base_uri": "https://localhost:8080/",
          "height": 91
        }
      },
      "source": [
        "%%time\n",
        "train_datagen=ImageDataGenerator(preprocessing_function=preprocess_input) #included in our dependencies\n",
        "\n",
        "train_generator=train_datagen.flow_from_directory('/content/two/train', # this is where you specify the path to the main data folder\n",
        "                                                 target_size=(150,150),\n",
        "                                                 color_mode='rgb',\n",
        "                                                 batch_size=32,\n",
        "                                                 class_mode='categorical',\n",
        "                                                 shuffle=True)\n",
        "\n",
        "valid_batches = train_datagen.flow_from_directory('/content/two/test',\n",
        "                                                   target_size=(150,150),\n",
        "                                                   color_mode='rgb',\n",
        "                                                   batch_size=32,\n",
        "                                                   class_mode='categorical',\n",
        "                                                   shuffle=True)"
      ],
      "execution_count": 0,
      "outputs": [
        {
          "output_type": "stream",
          "text": [
            "Found 130 images belonging to 2 classes.\n",
            "Found 18 images belonging to 2 classes.\n",
            "CPU times: user 8.54 ms, sys: 3.06 ms, total: 11.6 ms\n",
            "Wall time: 206 ms\n"
          ],
          "name": "stdout"
        }
      ]
    },
    {
      "cell_type": "code",
      "metadata": {
        "id": "rhrMYmwD-wyF",
        "colab_type": "code",
        "colab": {}
      },
      "source": [
        "from keras_applications.resnext import ResNeXt50\n",
        "from keras import models\n",
        "from keras import layers\n",
        "from keras import optimizers\n",
        "from keras.layers.core import Flatten, Dense, Dropout, Lambda"
      ],
      "execution_count": 0,
      "outputs": []
    },
    {
      "cell_type": "code",
      "metadata": {
        "id": "kDNtAtze1-r5",
        "colab_type": "code",
        "colab": {}
      },
      "source": [
        "import pandas as pd\n",
        "import numpy as np\n",
        "import os\n",
        "import keras\n",
        "import matplotlib.pyplot as plt\n",
        "from keras.layers import Dense,GlobalAveragePooling2D\n",
        "from keras.preprocessing import image\n",
        "from keras.applications.mobilenet import preprocess_input\n",
        "from keras.preprocessing.image import ImageDataGenerator\n",
        "from keras.models import Model\n",
        "from keras.optimizers import Adam\n",
        "from keras import models\n",
        "from keras import layers\n",
        "from keras_applications.resnext import ResNeXt50\n",
        "from keras.applications.resnet50 import ResNet50\n",
        "from keras.applications.resnet50 import preprocess_input as resnet_pi\n",
        "from keras import optimizers\n",
        "from keras.layers.core import Flatten, Dense, Dropout, Lambda\n",
        "\n",
        "base_model = ResNeXt50(weights='imagenet', \n",
        "                       backend=keras.backend,\n",
        "                       layers=keras.layers, \n",
        "                       models=keras.models, \n",
        "                       include_top=False,\n",
        "                       utils=keras.utils, \n",
        "                       input_shape=(150, 150, 3))\n",
        "\n",
        "x=base_model.output\n",
        "x=GlobalAveragePooling2D()(x)\n",
        "x=Dense(1024,activation='relu')(x) #we add dense layers so that the model can learn more complex functions and classify for better results.\n",
        "x=Dense(1024,activation='relu')(x) #dense layer 2\n",
        "x=Dense(1024,activation='relu')(x) #dense layer 3\n",
        "preds=Dense(1,activation='softmax')(x) #final layer with softmax activation\n",
        "model=Model(inputs=base_model.input,outputs=preds)\n",
        "model.compile(optimizer='Adam',loss='binary_crossentropy',metrics=['accuracy'])"
      ],
      "execution_count": 0,
      "outputs": []
    },
    {
      "cell_type": "code",
      "metadata": {
        "id": "A9gwdLSh1-t_",
        "colab_type": "code",
        "outputId": "48c3d566-ed40-4470-b7d8-5f4ddcf4a8e3",
        "colab": {
          "base_uri": "https://localhost:8080/",
          "height": 1000
        }
      },
      "source": [
        "model=Model(inputs=base_model.input,outputs=preds)\n",
        "for i,layer in enumerate(model.layers):\n",
        "  print(i,layer.name)"
      ],
      "execution_count": 0,
      "outputs": [
        {
          "output_type": "stream",
          "text": [
            "0 input_1\n",
            "1 conv1_pad\n",
            "2 conv1_conv\n",
            "3 conv1_bn\n",
            "4 conv1_relu\n",
            "5 pool1_pad\n",
            "6 pool1_pool\n",
            "7 conv2_block1_1_conv\n",
            "8 conv2_block1_1_bn\n",
            "9 conv2_block1_1_relu\n",
            "10 conv2_block1_2_pad\n",
            "11 conv2_block1_2_conv\n",
            "12 reshape_1\n",
            "13 conv2_block1_2_reduce\n",
            "14 reshape_2\n",
            "15 conv2_block1_2_bn\n",
            "16 conv2_block1_2_relu\n",
            "17 conv2_block1_0_conv\n",
            "18 conv2_block1_3_conv\n",
            "19 conv2_block1_0_bn\n",
            "20 conv2_block1_3_bn\n",
            "21 conv2_block1_add\n",
            "22 conv2_block1_out\n",
            "23 conv2_block2_1_conv\n",
            "24 conv2_block2_1_bn\n",
            "25 conv2_block2_1_relu\n",
            "26 conv2_block2_2_pad\n",
            "27 conv2_block2_2_conv\n",
            "28 reshape_3\n",
            "29 conv2_block2_2_reduce\n",
            "30 reshape_4\n",
            "31 conv2_block2_2_bn\n",
            "32 conv2_block2_2_relu\n",
            "33 conv2_block2_3_conv\n",
            "34 conv2_block2_3_bn\n",
            "35 conv2_block2_add\n",
            "36 conv2_block2_out\n",
            "37 conv2_block3_1_conv\n",
            "38 conv2_block3_1_bn\n",
            "39 conv2_block3_1_relu\n",
            "40 conv2_block3_2_pad\n",
            "41 conv2_block3_2_conv\n",
            "42 reshape_5\n",
            "43 conv2_block3_2_reduce\n",
            "44 reshape_6\n",
            "45 conv2_block3_2_bn\n",
            "46 conv2_block3_2_relu\n",
            "47 conv2_block3_3_conv\n",
            "48 conv2_block3_3_bn\n",
            "49 conv2_block3_add\n",
            "50 conv2_block3_out\n",
            "51 conv3_block1_1_conv\n",
            "52 conv3_block1_1_bn\n",
            "53 conv3_block1_1_relu\n",
            "54 conv3_block1_2_pad\n",
            "55 conv3_block1_2_conv\n",
            "56 reshape_7\n",
            "57 conv3_block1_2_reduce\n",
            "58 reshape_8\n",
            "59 conv3_block1_2_bn\n",
            "60 conv3_block1_2_relu\n",
            "61 conv3_block1_0_conv\n",
            "62 conv3_block1_3_conv\n",
            "63 conv3_block1_0_bn\n",
            "64 conv3_block1_3_bn\n",
            "65 conv3_block1_add\n",
            "66 conv3_block1_out\n",
            "67 conv3_block2_1_conv\n",
            "68 conv3_block2_1_bn\n",
            "69 conv3_block2_1_relu\n",
            "70 conv3_block2_2_pad\n",
            "71 conv3_block2_2_conv\n",
            "72 reshape_9\n",
            "73 conv3_block2_2_reduce\n",
            "74 reshape_10\n",
            "75 conv3_block2_2_bn\n",
            "76 conv3_block2_2_relu\n",
            "77 conv3_block2_3_conv\n",
            "78 conv3_block2_3_bn\n",
            "79 conv3_block2_add\n",
            "80 conv3_block2_out\n",
            "81 conv3_block3_1_conv\n",
            "82 conv3_block3_1_bn\n",
            "83 conv3_block3_1_relu\n",
            "84 conv3_block3_2_pad\n",
            "85 conv3_block3_2_conv\n",
            "86 reshape_11\n",
            "87 conv3_block3_2_reduce\n",
            "88 reshape_12\n",
            "89 conv3_block3_2_bn\n",
            "90 conv3_block3_2_relu\n",
            "91 conv3_block3_3_conv\n",
            "92 conv3_block3_3_bn\n",
            "93 conv3_block3_add\n",
            "94 conv3_block3_out\n",
            "95 conv3_block4_1_conv\n",
            "96 conv3_block4_1_bn\n",
            "97 conv3_block4_1_relu\n",
            "98 conv3_block4_2_pad\n",
            "99 conv3_block4_2_conv\n",
            "100 reshape_13\n",
            "101 conv3_block4_2_reduce\n",
            "102 reshape_14\n",
            "103 conv3_block4_2_bn\n",
            "104 conv3_block4_2_relu\n",
            "105 conv3_block4_3_conv\n",
            "106 conv3_block4_3_bn\n",
            "107 conv3_block4_add\n",
            "108 conv3_block4_out\n",
            "109 conv4_block1_1_conv\n",
            "110 conv4_block1_1_bn\n",
            "111 conv4_block1_1_relu\n",
            "112 conv4_block1_2_pad\n",
            "113 conv4_block1_2_conv\n",
            "114 reshape_15\n",
            "115 conv4_block1_2_reduce\n",
            "116 reshape_16\n",
            "117 conv4_block1_2_bn\n",
            "118 conv4_block1_2_relu\n",
            "119 conv4_block1_0_conv\n",
            "120 conv4_block1_3_conv\n",
            "121 conv4_block1_0_bn\n",
            "122 conv4_block1_3_bn\n",
            "123 conv4_block1_add\n",
            "124 conv4_block1_out\n",
            "125 conv4_block2_1_conv\n",
            "126 conv4_block2_1_bn\n",
            "127 conv4_block2_1_relu\n",
            "128 conv4_block2_2_pad\n",
            "129 conv4_block2_2_conv\n",
            "130 reshape_17\n",
            "131 conv4_block2_2_reduce\n",
            "132 reshape_18\n",
            "133 conv4_block2_2_bn\n",
            "134 conv4_block2_2_relu\n",
            "135 conv4_block2_3_conv\n",
            "136 conv4_block2_3_bn\n",
            "137 conv4_block2_add\n",
            "138 conv4_block2_out\n",
            "139 conv4_block3_1_conv\n",
            "140 conv4_block3_1_bn\n",
            "141 conv4_block3_1_relu\n",
            "142 conv4_block3_2_pad\n",
            "143 conv4_block3_2_conv\n",
            "144 reshape_19\n",
            "145 conv4_block3_2_reduce\n",
            "146 reshape_20\n",
            "147 conv4_block3_2_bn\n",
            "148 conv4_block3_2_relu\n",
            "149 conv4_block3_3_conv\n",
            "150 conv4_block3_3_bn\n",
            "151 conv4_block3_add\n",
            "152 conv4_block3_out\n",
            "153 conv4_block4_1_conv\n",
            "154 conv4_block4_1_bn\n",
            "155 conv4_block4_1_relu\n",
            "156 conv4_block4_2_pad\n",
            "157 conv4_block4_2_conv\n",
            "158 reshape_21\n",
            "159 conv4_block4_2_reduce\n",
            "160 reshape_22\n",
            "161 conv4_block4_2_bn\n",
            "162 conv4_block4_2_relu\n",
            "163 conv4_block4_3_conv\n",
            "164 conv4_block4_3_bn\n",
            "165 conv4_block4_add\n",
            "166 conv4_block4_out\n",
            "167 conv4_block5_1_conv\n",
            "168 conv4_block5_1_bn\n",
            "169 conv4_block5_1_relu\n",
            "170 conv4_block5_2_pad\n",
            "171 conv4_block5_2_conv\n",
            "172 reshape_23\n",
            "173 conv4_block5_2_reduce\n",
            "174 reshape_24\n",
            "175 conv4_block5_2_bn\n",
            "176 conv4_block5_2_relu\n",
            "177 conv4_block5_3_conv\n",
            "178 conv4_block5_3_bn\n",
            "179 conv4_block5_add\n",
            "180 conv4_block5_out\n",
            "181 conv4_block6_1_conv\n",
            "182 conv4_block6_1_bn\n",
            "183 conv4_block6_1_relu\n",
            "184 conv4_block6_2_pad\n",
            "185 conv4_block6_2_conv\n",
            "186 reshape_25\n",
            "187 conv4_block6_2_reduce\n",
            "188 reshape_26\n",
            "189 conv4_block6_2_bn\n",
            "190 conv4_block6_2_relu\n",
            "191 conv4_block6_3_conv\n",
            "192 conv4_block6_3_bn\n",
            "193 conv4_block6_add\n",
            "194 conv4_block6_out\n",
            "195 conv5_block1_1_conv\n",
            "196 conv5_block1_1_bn\n",
            "197 conv5_block1_1_relu\n",
            "198 conv5_block1_2_pad\n",
            "199 conv5_block1_2_conv\n",
            "200 reshape_27\n",
            "201 conv5_block1_2_reduce\n",
            "202 reshape_28\n",
            "203 conv5_block1_2_bn\n",
            "204 conv5_block1_2_relu\n",
            "205 conv5_block1_0_conv\n",
            "206 conv5_block1_3_conv\n",
            "207 conv5_block1_0_bn\n",
            "208 conv5_block1_3_bn\n",
            "209 conv5_block1_add\n",
            "210 conv5_block1_out\n",
            "211 conv5_block2_1_conv\n",
            "212 conv5_block2_1_bn\n",
            "213 conv5_block2_1_relu\n",
            "214 conv5_block2_2_pad\n",
            "215 conv5_block2_2_conv\n",
            "216 reshape_29\n",
            "217 conv5_block2_2_reduce\n",
            "218 reshape_30\n",
            "219 conv5_block2_2_bn\n",
            "220 conv5_block2_2_relu\n",
            "221 conv5_block2_3_conv\n",
            "222 conv5_block2_3_bn\n",
            "223 conv5_block2_add\n",
            "224 conv5_block2_out\n",
            "225 conv5_block3_1_conv\n",
            "226 conv5_block3_1_bn\n",
            "227 conv5_block3_1_relu\n",
            "228 conv5_block3_2_pad\n",
            "229 conv5_block3_2_conv\n",
            "230 reshape_31\n",
            "231 conv5_block3_2_reduce\n",
            "232 reshape_32\n",
            "233 conv5_block3_2_bn\n",
            "234 conv5_block3_2_relu\n",
            "235 conv5_block3_3_conv\n",
            "236 conv5_block3_3_bn\n",
            "237 conv5_block3_add\n",
            "238 conv5_block3_out\n",
            "239 global_average_pooling2d_1\n",
            "240 dense_1\n",
            "241 dense_2\n",
            "242 dense_3\n",
            "243 dense_4\n"
          ],
          "name": "stdout"
        }
      ]
    },
    {
      "cell_type": "code",
      "metadata": {
        "id": "vjULDwU21-wF",
        "colab_type": "code",
        "colab": {}
      },
      "source": [
        "for layer in model.layers:\n",
        "    layer.trainable=False\n",
        "# or if we want to set the first 20 layers of the network to be non-trainable\n",
        "for layer in model.layers[:20]:\n",
        "    layer.trainable=False\n",
        "for layer in model.layers[20:]:\n",
        "    layer.trainable=True"
      ],
      "execution_count": 0,
      "outputs": []
    },
    {
      "cell_type": "code",
      "metadata": {
        "id": "zNYnGGzsGR9C",
        "colab_type": "code",
        "outputId": "47ffba56-3666-4e94-dc63-c94ca4dbfb34",
        "colab": {
          "base_uri": "https://localhost:8080/",
          "height": 1000
        }
      },
      "source": [
        "model.compile(optimizer='Adam',loss='categorical_crossentropy',metrics=['accuracy'])\n",
        "step_size_valid = valid_batches.n//valid_batches.batch_size\n",
        "step_size_train=train_generator.n//train_generator.batch_size\n",
        "result=model.fit_generator(generator=train_generator,\n",
        "                           validation_data = valid_batches,\n",
        "                           validation_steps = step_size_valid,\n",
        "                           steps_per_epoch=step_size_train,\n",
        "                           epochs=50)"
      ],
      "execution_count": 0,
      "outputs": [
        {
          "output_type": "stream",
          "text": [
            "WARNING:tensorflow:From /usr/local/lib/python3.6/dist-packages/keras/optimizers.py:790: The name tf.train.Optimizer is deprecated. Please use tf.compat.v1.train.Optimizer instead.\n",
            "\n",
            "WARNING:tensorflow:From /usr/local/lib/python3.6/dist-packages/tensorflow/python/ops/math_grad.py:1250: add_dispatch_support.<locals>.wrapper (from tensorflow.python.ops.array_ops) is deprecated and will be removed in a future version.\n",
            "Instructions for updating:\n",
            "Use tf.where in 2.0, which has the same broadcast rule as np.where\n",
            "Epoch 1/50\n",
            "4/4 [==============================] - 225s 56s/step - loss: 0.8903 - acc: 0.7344 - val_loss: 0.0042 - val_acc: 1.0000\n",
            "Epoch 2/50\n",
            "4/4 [==============================] - 163s 41s/step - loss: 0.1435 - acc: 0.9751 - val_loss: 1.1921e-07 - val_acc: 1.0000\n",
            "Epoch 3/50\n",
            "4/4 [==============================] - 162s 41s/step - loss: 0.1550 - acc: 0.9503 - val_loss: 0.0080 - val_acc: 1.0000\n",
            "Epoch 4/50\n",
            "4/4 [==============================] - 162s 41s/step - loss: 1.7008 - acc: 0.8897 - val_loss: 1.4461 - val_acc: 0.8333\n",
            "Epoch 5/50\n",
            "4/4 [==============================] - 164s 41s/step - loss: 0.7328 - acc: 0.8897 - val_loss: 0.0607 - val_acc: 0.9444\n",
            "Epoch 6/50\n",
            "4/4 [==============================] - 202s 50s/step - loss: 0.2457 - acc: 0.9141 - val_loss: 1.5503 - val_acc: 0.6667\n",
            "Epoch 7/50\n",
            "4/4 [==============================] - 163s 41s/step - loss: 0.1166 - acc: 0.9751 - val_loss: 0.0019 - val_acc: 1.0000\n",
            "Epoch 8/50\n",
            "4/4 [==============================] - 162s 41s/step - loss: 1.7103 - acc: 0.8814 - val_loss: 0.0195 - val_acc: 1.0000\n",
            "Epoch 9/50\n",
            "4/4 [==============================] - 163s 41s/step - loss: 3.5715e-04 - acc: 1.0000 - val_loss: 0.7197 - val_acc: 0.7222\n",
            "Epoch 10/50\n",
            "4/4 [==============================] - 162s 41s/step - loss: 1.6837 - acc: 0.8814 - val_loss: 0.0301 - val_acc: 1.0000\n",
            "Epoch 11/50\n",
            "4/4 [==============================] - 200s 50s/step - loss: 0.3787 - acc: 0.9531 - val_loss: 2.5925e-04 - val_acc: 1.0000\n",
            "Epoch 12/50\n",
            "4/4 [==============================] - 162s 41s/step - loss: 0.2296 - acc: 0.8980 - val_loss: 0.2197 - val_acc: 0.8889\n",
            "Epoch 13/50\n",
            "4/4 [==============================] - 162s 41s/step - loss: 0.2083 - acc: 0.9420 - val_loss: 0.4928 - val_acc: 0.8333\n",
            "Epoch 14/50\n",
            "4/4 [==============================] - 163s 41s/step - loss: 0.1666 - acc: 0.9668 - val_loss: 0.9737 - val_acc: 0.7778\n",
            "Epoch 15/50\n",
            "4/4 [==============================] - 161s 40s/step - loss: 0.1330 - acc: 0.9668 - val_loss: 1.0231 - val_acc: 0.7778\n",
            "Epoch 16/50\n",
            "4/4 [==============================] - 200s 50s/step - loss: 0.1385 - acc: 0.9609 - val_loss: 0.6607 - val_acc: 0.8333\n",
            "Epoch 17/50\n",
            "4/4 [==============================] - 162s 40s/step - loss: 1.6145 - acc: 0.7570 - val_loss: 1.3936 - val_acc: 0.6667\n",
            "Epoch 18/50\n",
            "4/4 [==============================] - 161s 40s/step - loss: 0.1938 - acc: 0.8756 - val_loss: 1.2932 - val_acc: 0.8333\n",
            "Epoch 19/50\n",
            "4/4 [==============================] - 161s 40s/step - loss: 0.5796 - acc: 0.8980 - val_loss: 0.6003 - val_acc: 0.8333\n",
            "Epoch 20/50\n",
            "4/4 [==============================] - 162s 40s/step - loss: 0.2298 - acc: 0.9668 - val_loss: 0.3780 - val_acc: 0.8333\n",
            "Epoch 21/50\n",
            "4/4 [==============================] - 199s 50s/step - loss: 0.1135 - acc: 0.9922 - val_loss: 0.8078 - val_acc: 0.7778\n",
            "Epoch 22/50\n",
            "4/4 [==============================] - 162s 40s/step - loss: 0.0418 - acc: 0.9917 - val_loss: 1.8529 - val_acc: 0.6111\n",
            "Epoch 23/50\n",
            "4/4 [==============================] - 162s 40s/step - loss: 0.5190 - acc: 0.8897 - val_loss: 0.7562 - val_acc: 0.8333\n",
            "Epoch 24/50\n",
            "4/4 [==============================] - 162s 40s/step - loss: 0.0302 - acc: 1.0000 - val_loss: 0.5113 - val_acc: 0.8333\n",
            "Epoch 25/50\n",
            "4/4 [==============================] - 163s 41s/step - loss: 1.5966 - acc: 0.7876 - val_loss: 0.5205 - val_acc: 0.8333\n",
            "Epoch 26/50\n",
            "4/4 [==============================] - 203s 51s/step - loss: 0.1373 - acc: 0.9531 - val_loss: 1.4583 - val_acc: 0.5000\n",
            "Epoch 27/50\n",
            "4/4 [==============================] - 165s 41s/step - loss: 0.2856 - acc: 0.9171 - val_loss: 1.7883 - val_acc: 0.5556\n",
            "Epoch 28/50\n",
            "4/4 [==============================] - 163s 41s/step - loss: 0.1141 - acc: 0.9834 - val_loss: 0.8666 - val_acc: 0.7778\n",
            "Epoch 29/50\n",
            "4/4 [==============================] - 162s 40s/step - loss: 0.0431 - acc: 0.9834 - val_loss: 0.2399 - val_acc: 0.9444\n",
            "Epoch 30/50\n",
            "4/4 [==============================] - 161s 40s/step - loss: 0.0111 - acc: 1.0000 - val_loss: 0.3024 - val_acc: 0.9444\n",
            "Epoch 31/50\n",
            "4/4 [==============================] - 201s 50s/step - loss: 0.0034 - acc: 1.0000 - val_loss: 0.4560 - val_acc: 0.8889\n",
            "Epoch 32/50\n",
            "4/4 [==============================] - 163s 41s/step - loss: 0.0029 - acc: 1.0000 - val_loss: 0.7753 - val_acc: 0.7778\n",
            "Epoch 33/50\n",
            "4/4 [==============================] - 163s 41s/step - loss: 1.3302 - acc: 0.8565 - val_loss: 0.5548 - val_acc: 0.7778\n",
            "Epoch 34/50\n",
            "4/4 [==============================] - 161s 40s/step - loss: 0.4498 - acc: 0.7379 - val_loss: 0.4485 - val_acc: 0.6667\n",
            "Epoch 35/50\n",
            "4/4 [==============================] - 161s 40s/step - loss: 0.4437 - acc: 0.7156 - val_loss: 0.6611 - val_acc: 0.6667\n",
            "Epoch 36/50\n",
            "4/4 [==============================] - 199s 50s/step - loss: 0.2519 - acc: 0.9688 - val_loss: 0.9077 - val_acc: 0.7222\n",
            "Epoch 37/50\n",
            "4/4 [==============================] - 161s 40s/step - loss: 0.4134 - acc: 0.8151 - val_loss: 1.7836 - val_acc: 0.6111\n",
            "Epoch 38/50\n",
            "4/4 [==============================] - 162s 40s/step - loss: 0.1577 - acc: 0.9420 - val_loss: 1.3750 - val_acc: 0.8333\n",
            "Epoch 39/50\n",
            "4/4 [==============================] - 161s 40s/step - loss: 0.0418 - acc: 0.9834 - val_loss: 0.2652 - val_acc: 0.9444\n",
            "Epoch 40/50\n",
            "4/4 [==============================] - 162s 40s/step - loss: 0.1102 - acc: 0.9585 - val_loss: 0.1116 - val_acc: 0.9444\n",
            "Epoch 41/50\n",
            "4/4 [==============================] - 200s 50s/step - loss: 0.0288 - acc: 0.9922 - val_loss: 0.0148 - val_acc: 1.0000\n",
            "Epoch 42/50\n",
            "4/4 [==============================] - 163s 41s/step - loss: 0.4527 - acc: 0.8565 - val_loss: 0.9341 - val_acc: 0.7778\n",
            "Epoch 43/50\n",
            "4/4 [==============================] - 162s 40s/step - loss: 0.1710 - acc: 0.9585 - val_loss: 0.0594 - val_acc: 1.0000\n",
            "Epoch 44/50\n",
            "4/4 [==============================] - 162s 40s/step - loss: 0.1024 - acc: 0.9917 - val_loss: 0.2735 - val_acc: 0.8889\n",
            "Epoch 45/50\n",
            "4/4 [==============================] - 162s 41s/step - loss: 0.0329 - acc: 1.0000 - val_loss: 0.6004 - val_acc: 0.7778\n",
            "Epoch 46/50\n",
            "4/4 [==============================] - 200s 50s/step - loss: 0.0298 - acc: 0.9922 - val_loss: 0.8657 - val_acc: 0.7778\n",
            "Epoch 47/50\n",
            "4/4 [==============================] - 163s 41s/step - loss: 0.1108 - acc: 0.9668 - val_loss: 0.6150 - val_acc: 0.7778\n",
            "Epoch 48/50\n",
            "4/4 [==============================] - 162s 41s/step - loss: 0.0036 - acc: 1.0000 - val_loss: 0.2947 - val_acc: 0.9444\n",
            "Epoch 49/50\n",
            "4/4 [==============================] - 162s 41s/step - loss: 0.0010 - acc: 1.0000 - val_loss: 0.1280 - val_acc: 0.9444\n",
            "Epoch 50/50\n",
            "4/4 [==============================] - 161s 40s/step - loss: 0.0139 - acc: 0.9917 - val_loss: 0.0694 - val_acc: 0.9444\n"
          ],
          "name": "stdout"
        }
      ]
    },
    {
      "cell_type": "code",
      "metadata": {
        "id": "j4AgPSkRCNtp",
        "colab_type": "code",
        "outputId": "64e5ca1b-4e49-4440-8a8e-eb6d0824bb86",
        "colab": {
          "base_uri": "https://localhost:8080/",
          "height": 573
        }
      },
      "source": [
        "import matplotlib.pyplot as plt\n",
        "from keras.models import load_model\n",
        "\n",
        "plt.plot(result.history['acc'])\n",
        "plt.plot(result.history['val_acc'])\n",
        "plt.title('model accuracy')\n",
        "plt.ylabel('accuracy')\n",
        "plt.xlabel('epoch')\n",
        "plt.legend(['train', 'test'], loc='upper left')\n",
        "plt.show()\n",
        "\n",
        "plt.plot(result.history['loss'])\n",
        "plt.plot(result.history['val_loss'])\n",
        "plt.title('model loss')\n",
        "plt.ylabel('loss')\n",
        "plt.xlabel('epoch')\n",
        "plt.legend(['train', 'test'], loc='upper left')\n",
        "plt.show()"
      ],
      "execution_count": 0,
      "outputs": [
        {
          "output_type": "display_data",
          "data": {
            "image/png": "[encoded data removed]",
            "text/plain": [
              "<Figure size 432x288 with 1 Axes>"
            ]
          },
          "metadata": {
            "tags": [],
            "needs_background": "light"
          }
        },
        {
          "output_type": "display_data",
          "data": {
            "image/png": "[encoded data removed]",
            "text/plain": [
              "<Figure size 432x288 with 1 Axes>"
            ]
          },
          "metadata": {
            "tags": [],
            "needs_background": "light"
          }
        }
      ]
    }
  ]
}